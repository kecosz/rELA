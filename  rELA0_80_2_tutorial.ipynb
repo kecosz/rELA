{
  "cells": [
    {
      "cell_type": "markdown",
      "metadata": {
        "id": "view-in-github",
        "colab_type": "text"
      },
      "source": [
        "<a href=\"https://colab.research.google.com/github/kecosz/rELA/blob/main/%20rELA0_80_2_tutorial.ipynb\" target=\"_parent\"><img src=\"https://colab.research.google.com/assets/colab-badge.svg\" alt=\"Open In Colab\"/></a>"
      ]
    },
    {
      "cell_type": "markdown",
      "metadata": {
        "id": "SMUqqaOsK38p"
      },
      "source": [
        "## Tutorial for rELA 0.80.2\n",
        "### Notes:\n",
        "\n",
        "### 0.80.2\n",
        "\n",
        "#### **Fix the error in *SSentropy*, *Stability*, and *gStability* function.**\n",
        "\n",
        "The new ***SSentropy***, ***Stability***, ***gStability*** functions can show whether all stable state searches successfully converged and display whether the configuration used is sufficient for the target dataset.\n",
        "\n",
        "#### **Disconnectivity Graph with interquartile range**\n",
        "\n",
        "The SGD method usually produces deviations in the parameter estimation process.\n",
        "\n",
        "The new function, ***bootstrap_ELA***, performs bootstrap sampling on a series of estimated parameter sets and computes the variability of the estimated energies among the predicted stable states and tipping points.\n",
        "\n",
        "The new ***showDG*** function considers variabilities in energies and displays a range as an IQR box plot for each stable state or tipping point.\n"
      ]
    },
    {
      "cell_type": "markdown",
      "metadata": {
        "id": "Gu4g34_2043W"
      },
      "source": [
        "## Setup"
      ]
    },
    {
      "cell_type": "code",
      "execution_count": null,
      "metadata": {
        "colab": {
          "base_uri": "https://localhost:8080/"
        },
        "id": "Tfiiqyn4AZjG",
        "outputId": "34086ce0-2690-4d43-8424-8ec94fe268b7"
      },
      "outputs": [
        {
          "output_type": "stream",
          "name": "stdout",
          "text": [
            "Drive already mounted at /content/drive; to attempt to forcibly remount, call drive.mount(\"/content/drive\", force_remount=True).\n",
            "Requirement already satisfied: rpy2==3.5.1 in /usr/local/lib/python3.11/dist-packages (3.5.1)\n",
            "Requirement already satisfied: cffi>=1.10.0 in /usr/local/lib/python3.11/dist-packages (from rpy2==3.5.1) (1.17.1)\n",
            "Requirement already satisfied: jinja2 in /usr/local/lib/python3.11/dist-packages (from rpy2==3.5.1) (3.1.6)\n",
            "Requirement already satisfied: pytz in /usr/local/lib/python3.11/dist-packages (from rpy2==3.5.1) (2025.2)\n",
            "Requirement already satisfied: tzlocal in /usr/local/lib/python3.11/dist-packages (from rpy2==3.5.1) (5.3.1)\n",
            "Requirement already satisfied: pycparser in /usr/local/lib/python3.11/dist-packages (from cffi>=1.10.0->rpy2==3.5.1) (2.22)\n",
            "Requirement already satisfied: MarkupSafe>=2.0 in /usr/local/lib/python3.11/dist-packages (from jinja2->rpy2==3.5.1) (3.0.2)\n",
            "The rpy2.ipython extension is already loaded. To reload it, use:\n",
            "  %reload_ext rpy2.ipython\n",
            "Cloning into 'rELA'...\n",
            "remote: Enumerating objects: 1033, done.\u001b[K\n",
            "remote: Counting objects: 100% (269/269), done.\u001b[K\n",
            "remote: Compressing objects: 100% (154/154), done.\u001b[K\n",
            "remote: Total 1033 (delta 199), reused 115 (delta 115), pack-reused 764 (from 2)\u001b[K\n",
            "Receiving objects: 100% (1033/1033), 11.24 MiB | 18.18 MiB/s, done.\n",
            "Resolving deltas: 100% (504/504), done.\n"
          ]
        }
      ],
      "source": [
        "## Mount Google Drive\n",
        "from google.colab import drive\n",
        "drive.mount('/content/drive')\n",
        "\n",
        "## rpy2 version specification\n",
        "### Required to successfully execute \"%load_ext rpy2.ipython\" as of 2023/1\n",
        "!pip install rpy2==3.5.1\n",
        "#!pip install --upgrade ipykernel\n",
        "%load_ext rpy2.ipython\n",
        "\n",
        "###The following codes is just for not showing rpy2 messages related to R package installation on google colab\n",
        "from rpy2.rinterface_lib.callbacks import logger as rpy2_logger\n",
        "import logging\n",
        "rpy2_logger.setLevel(logging.ERROR)   # will display errors, but not warnings\n",
        "\n",
        "## Doanload rELA package\n",
        "!rm -r rELA\n",
        "!git clone https://github.com/kecosz/rELA.git"
      ]
    },
    {
      "cell_type": "code",
      "execution_count": null,
      "metadata": {
        "colab": {
          "base_uri": "https://localhost:8080/"
        },
        "id": "_KBe-vdFdug6",
        "outputId": "96759978-698b-4fc8-8896-e499daac96b5"
      },
      "outputs": [
        {
          "name": "stdout",
          "output_type": "stream",
          "text": [
            "NULL\n"
          ]
        }
      ],
      "source": [
        "%%R\n",
        "# [for Google Colab]\n",
        "# from v0.50, Due to errors in installing igraph and tidygraph\n",
        "#system(\"add-apt-repository -y ppa:marutter/rrutter4.0\")\n",
        "#system(\"add-apt-repository -y ppa:c2d4u.team/c2d4u4.0+\")\n",
        "#system(\"add-apt-repository ppa:cran/v8\")\n",
        "#system(\"apt-get update\")\n",
        "#system(\"apt-get install libnode-dev\")\n",
        "#system(\"apt-get install r-cran-igraph r-cran-tidygraph\")"
      ]
    },
    {
      "cell_type": "code",
      "execution_count": null,
      "metadata": {
        "colab": {
          "base_uri": "https://localhost:8080/"
        },
        "id": "dD5_wbCLVip1",
        "outputId": "bb6b3ff5-121c-4ab8-82d1-be6d55a26782"
      },
      "outputs": [
        {
          "output_type": "stream",
          "name": "stdout",
          "text": [
            "── Attaching core tidyverse packages ──────────────────────── tidyverse 2.0.0 ──\n",
            "✔ dplyr     1.1.4     ✔ readr     2.1.5\n",
            "✔ forcats   1.0.0     ✔ stringr   1.5.1\n",
            "✔ ggplot2   3.5.2     ✔ tibble    3.3.0\n",
            "✔ lubridate 1.9.4     ✔ tidyr     1.3.1\n",
            "✔ purrr     1.1.0     \n",
            "── Conflicts ────────────────────────────────────────── tidyverse_conflicts() ──\n",
            "✖ purrr::accumulate() masks foreach::accumulate()\n",
            "✖ dplyr::filter()     masks stats::filter()\n",
            "✖ dplyr::lag()        masks stats::lag()\n",
            "✖ purrr::when()       masks foreach::when()\n",
            "ℹ Use the conflicted package (<http://conflicted.r-lib.org/>) to force all conflicts to become errors\n"
          ]
        }
      ],
      "source": [
        "%%R\n",
        "## package instllation\n",
        "install.packages(\"Rcpp\")\n",
        "install.packages(\"RcppArmadillo\")\n",
        "install.packages(\"doParallel\")\n",
        "install.packages('tidyverse')\n",
        "install.packages('gsubfn')\n",
        "install.packages('zoo')\n",
        "install.packages('dplyr')\n",
        "install.packages('tidyr')\n",
        "install.packages('ggplot2')\n",
        "install.packages('gtools')\n",
        "install.packages('ggsci')\n",
        "install.packages('igraph')\n",
        "install.packages('tidygraph')\n",
        "install.packages('RColorBrewer')\n",
        "install.packages(\"stringdist\")\n",
        "install.packages(\"purrr\")\n",
        "install.packages(\"plot3D\")\n",
        "install.packages(\"devtools\")\n",
        "library(\"Rcpp\")\n",
        "library(\"RcppArmadillo\")\n",
        "library(\"doParallel\")\n",
        "library('tidyverse')\n",
        "library('gsubfn')\n",
        "library('zoo')\n",
        "library('dplyr')\n",
        "library('tidyr')\n",
        "library('ggplot2')\n",
        "library('gtools')\n",
        "library('ggsci')\n",
        "library('igraph')\n",
        "library('tidygraph')\n",
        "library('RColorBrewer')\n",
        "library(\"stringdist\")\n",
        "library(\"purrr\")\n",
        "library(\"plot3D\")\n",
        "library(\"devtools\")"
      ]
    },
    {
      "cell_type": "code",
      "execution_count": null,
      "metadata": {
        "id": "u76zG5j-XXaz"
      },
      "outputs": [],
      "source": [
        "%%R\n",
        "# If already installed\n",
        "detach(\"package:rELA\",unload=TRUE)\n",
        "remove.packages(\"rELA\")"
      ]
    },
    {
      "cell_type": "code",
      "execution_count": null,
      "metadata": {
        "id": "n8BXEKHwhHwS"
      },
      "outputs": [],
      "source": [
        "%%R\n",
        "install.packages(\"rELA/rELA.v0.80.2.tar.gz\")\n",
        "library(\"rELA\")"
      ]
    },
    {
      "cell_type": "markdown",
      "metadata": {
        "id": "CG_JXBbZKA8O"
      },
      "source": [
        "### Using randomly generated parameter sets"
      ]
    },
    {
      "cell_type": "code",
      "execution_count": null,
      "metadata": {
        "id": "zMdNNo6mG0t6",
        "colab": {
          "base_uri": "https://localhost:8080/"
        },
        "outputId": "2cb443be-8a5c-4508-ef88-aaac54a62f0b"
      },
      "outputs": [
        {
          "output_type": "stream",
          "name": "stdout",
          "text": [
            "Processed 512 samples.\n",
            "Relative abundance threshold = 0.01 \n",
            "Occurrence threshold (lower) = 0.01 \n",
            "Occurrence threshold (upper) = 0.99 \n",
            "0  groups were found.\n",
            "Selected  24  out of  32 species.\n"
          ]
        }
      ],
      "source": [
        "%%R\n",
        "# ocmatrix and enmatrix can be generated from the heatbath sampling\n",
        "# based on the randomly generated parameter sets, h, g, and J.\n",
        "# Here, j_connectivity is set to 0.5, meaning that species-species interactions exist (> 0)\n",
        "# in 50 % of all possible pairs, and otherwise the rest 50 % is set to 0 in J matrix.\n",
        "\n",
        "hb_params <- hb.paramgen(32, ne = 0, j_connectivity=0.5)\n",
        "h.act <- hb_params[[1]]\n",
        "j.act <- hb_params[[2]]\n",
        "list[rand_mat,rand_enmat] <- HeatBath(500, 512, h.act, j.act)\n",
        "list[rand_mat, abmat, rand_enmat, samplelabel, specieslabel, factorlabel] <-\n",
        "  Formatting(rand_mat, basemetadata=rand_enmat, normalize=1, parameters=c(0.01, 0.01, 0.99), grouping=1, grouping_th=0.)"
      ]
    },
    {
      "cell_type": "code",
      "execution_count": null,
      "metadata": {
        "colab": {
          "base_uri": "https://localhost:8080/"
        },
        "id": "OlB2rHVaZ_Ea",
        "outputId": "0f78ba7a-cd02-4af8-823c-59a0683de17b"
      },
      "outputs": [
        {
          "output_type": "stream",
          "name": "stdout",
          "text": [
            "           species.18 species.6 species.25 species.19 species.4 species.15\n",
            "sample.1            0         0          0          0         0          0\n",
            "sample.10           0         0          0          0         1          1\n",
            "sample.100          0         0          0          0         1          1\n",
            "sample.101          0         0          0          0         1          1\n",
            "sample.102          0         0          0          0         0          0\n",
            "sample.103          0         0          0          0         0          0\n",
            "           species.28 species.17 species.1 species.3 species.11 species.27\n",
            "sample.1            0          1         1         1          1          1\n",
            "sample.10           1          0         0         0          1          1\n",
            "sample.100          1          0         0         1          0          0\n",
            "sample.101          1          0         0         0          0          0\n",
            "sample.102          0          0         1         1          0          1\n",
            "sample.103          1          1         1         1          1          1\n",
            "           species.2 species.29 species.8 species.23 species.13 species.30\n",
            "sample.1           1          1         1          1          1          1\n",
            "sample.10          1          1         1          1          1          1\n",
            "sample.100         0          1         1          1          1          1\n",
            "sample.101         1          0         1          1          1          1\n",
            "sample.102         1          1         0          1          1          1\n",
            "sample.103         1          1         1          0          0          1\n",
            "           species.7 species.22 species.14 species.16 species.12 species.20\n",
            "sample.1           1          1          1          1          1          1\n",
            "sample.10          1          1          1          1          1          1\n",
            "sample.100         1          1          1          1          1          1\n",
            "sample.101         1          1          1          1          1          1\n",
            "sample.102         1          1          1          1          1          1\n",
            "sample.103         1          1          1          1          1          1\n"
          ]
        }
      ],
      "source": [
        "%%R\n",
        "head(rand_mat)"
      ]
    },
    {
      "cell_type": "markdown",
      "metadata": {
        "id": "VBnEq4R1Ysjs"
      },
      "source": [
        "### Parameter fitting"
      ]
    },
    {
      "cell_type": "code",
      "execution_count": null,
      "metadata": {
        "colab": {
          "base_uri": "https://localhost:8080/"
        },
        "id": "RAuVrLhWriu6",
        "outputId": "96a85634-e735-4fd5-d31e-0ccb51ef3421"
      },
      "outputs": [
        {
          "output_type": "stream",
          "name": "stdout",
          "text": [
            "Try: l=0.005000, maxlr=0.002000, runadamW=TRUE, Sparse=TRUE\n",
            "\n",
            "Try: l=0.005000, maxlr=0.005000, runadamW=TRUE, Sparse=TRUE\n",
            "\n",
            "Try: l=0.005000, maxlr=0.007500, runadamW=TRUE, Sparse=TRUE\n",
            "\n",
            "Try: l=0.005000, maxlr=0.010000, runadamW=TRUE, Sparse=TRUE\n",
            "\n"
          ]
        }
      ],
      "source": [
        "%%R\n",
        "# Here, a randomly generated matrix is used in this tutorial for validation.\n",
        "list[bp,allresults] <- Findbp2(rand_mat,rep=32,threads=2,lmd=c(0.005),\n",
        "                              fastfitting = TRUE,intv=100,totalit=5000)"
      ]
    },
    {
      "cell_type": "code",
      "execution_count": null,
      "metadata": {
        "colab": {
          "base_uri": "https://localhost:8080/",
          "height": 497
        },
        "id": "Bd5-qmqSv6PR",
        "outputId": "40086286-d6b8-48cc-bd2a-003f1fe30789"
      },
      "outputs": [
        {
          "output_type": "display_data",
          "data": {
            "image/png": "[encoded data removed]"
          },
          "metadata": {}
        }
      ],
      "source": [
        "%%R\n",
        "plotSAtest(allresults,ylim=c(0.3,0.5))"
      ]
    },
    {
      "cell_type": "markdown",
      "metadata": {
        "id": "h9SBSi9IraUA"
      },
      "source": [
        "Here, \"id\" corresponds to the tested parameter sets (lambda, maxlearningrate), which are key hyper parameters for SGD."
      ]
    },
    {
      "cell_type": "code",
      "execution_count": null,
      "metadata": {
        "colab": {
          "base_uri": "https://localhost:8080/"
        },
        "id": "4DL-ktCo3lQU",
        "outputId": "ddeef2e8-a058-45e0-b7ff-f19f3379c10a"
      },
      "outputs": [
        {
          "output_type": "stream",
          "name": "stdout",
          "text": [
            "Start parameter fitting:\n",
            "SA: elapsed time 200.91 sec\n",
            "\n"
          ]
        }
      ],
      "source": [
        "%%R\n",
        "# Then use the parameter set giving the best fitted result\n",
        "list[lmd,we,totalit] <- as.numeric(unlist(strsplit(names(bp)[1], split = \"_\")))\n",
        "#runSA: ocmatrix, env (environmental parameters; with>SA / without>fullSA), qth (threshold for stopping computation), rep (number of fitting processes to compute mean parameter value), threads (number of parallel threads)\n",
        "sa <- runSA(rand_mat, rep = 32,threads=2,getall=FALSE,totalit=totalit,\n",
        "            lambda = lmd, we = we)\n"
      ]
    },
    {
      "cell_type": "code",
      "execution_count": null,
      "metadata": {
        "id": "KpxMpgriGu30"
      },
      "outputs": [],
      "source": [
        "%%R\n",
        "list[he,je,ge,hge] <- sa2params(sa)"
      ]
    },
    {
      "cell_type": "markdown",
      "source": [
        "### Running Stability analysis. The convTime is set to 100."
      ],
      "metadata": {
        "id": "GGs8NC-nk307"
      }
    },
    {
      "cell_type": "code",
      "source": [
        "%%R\n",
        "stab <- Stability(sa,rand_mat,seitr=100,seconvTime=100,threads=2)"
      ],
      "metadata": {
        "colab": {
          "base_uri": "https://localhost:8080/"
        },
        "id": "q0O8skPQqo_r",
        "outputId": "ea6d1d7d-eb8f-4ab3-88db-bd648a2c963d"
      },
      "execution_count": null,
      "outputs": [
        {
          "output_type": "stream",
          "name": "stdout",
          "text": [
            "Start Stability:\n",
            "Convergence rate: 0.46 \n",
            "more than 10% searches were not converged. convTime may be too small, try larger convTime.\n",
            "Stability: elapsed time 14.68 sec\n",
            "\n"
          ]
        }
      ]
    },
    {
      "cell_type": "markdown",
      "source": [
        "### Then, change convTime is set to 1000."
      ],
      "metadata": {
        "id": "4i4p-TNPlBju"
      }
    },
    {
      "cell_type": "code",
      "source": [
        "%%R\n",
        "\n",
        "stab <- Stability(sa,rand_mat,seitr=100,seconvTime=1000,threads=2)"
      ],
      "metadata": {
        "colab": {
          "base_uri": "https://localhost:8080/"
        },
        "id": "BP7G5_hGCj0G",
        "outputId": "ac7e1bdf-8ff7-406d-e639-aaf02aae56e8"
      },
      "execution_count": null,
      "outputs": [
        {
          "output_type": "stream",
          "name": "stdout",
          "text": [
            "Start Stability:\n",
            "Convergence rate: 0.99 \n",
            "Stability: elapsed time 21.03 sec\n",
            "\n"
          ]
        }
      ]
    },
    {
      "cell_type": "code",
      "source": [
        "%%R\n",
        "head(stab,5)"
      ],
      "metadata": {
        "colab": {
          "base_uri": "https://localhost:8080/"
        },
        "id": "uXCQlAvalInA",
        "outputId": "34981c17-4605-449b-afe9-c031653011e2"
      },
      "execution_count": null,
      "outputs": [
        {
          "output_type": "stream",
          "name": "stdout",
          "text": [
            "           energy.gap ss.entropy e.realize  e.stable state.id stable.state.id\n",
            "sample.1    0.3927809   1.657823 -24.36559 -24.75837     0V//            0Vt/\n",
            "sample.10   1.1228188   1.660515 -23.63167 -24.75449     3Z//            3X//\n",
            "sample.100  2.6537945   1.833807 -21.72835 -24.38214     3aV/            3WV/\n",
            "sample.101  1.7583313   1.722261 -22.99616 -24.75449     3Wl/            3X//\n",
            "sample.102  3.3771989   1.842492 -21.38118 -24.75837     0Dt/            0Vt/\n"
          ]
        }
      ]
    },
    {
      "cell_type": "markdown",
      "source": [
        "### Draw disconnectivity graph with IQR"
      ],
      "metadata": {
        "id": "zlph87HRDDVM"
      }
    },
    {
      "cell_type": "code",
      "execution_count": null,
      "metadata": {
        "colab": {
          "base_uri": "https://localhost:8080/"
        },
        "id": "i6djwPciRBkU",
        "outputId": "76747581-0c48-42dc-f018-f5970cbbfe75"
      },
      "outputs": [
        {
          "output_type": "stream",
          "name": "stdout",
          "text": [
            "Start parameter fitting:\n",
            "SA: elapsed time 206.10 sec\n",
            "\n",
            "Run bootstrap sampling of sa params.\n",
            "calculate Energy.\n"
          ]
        }
      ],
      "source": [
        "%%R\n",
        "# Using the test datasets, running bootstrap sampling in ELA.\n",
        "# Here, runSA function with \"getall = TRUE\" to get the results from all series.\n",
        "fittingMat <- runSA(rand_mat, rep = 32, threads=2, getall=TRUE,totalit=totalit,lambda = lmd, we = we)\n",
        "\n",
        "bootstrap <- bootstrap_ELA(fittingMat,rand_mat,iterations=64,resamplesize=16)"
      ]
    },
    {
      "cell_type": "code",
      "source": [
        "%%R\n",
        "ela_rep <- bootstrap[[1]]\n",
        "bootstrap_ene <- bootstrap[[2]]\n",
        "ela_rep"
      ],
      "metadata": {
        "colab": {
          "base_uri": "https://localhost:8080/"
        },
        "id": "KU1mLYEYT7nT",
        "outputId": "9d5d5f88-f695-4713-9d09-e94e4eb33799"
      },
      "execution_count": null,
      "outputs": [
        {
          "output_type": "stream",
          "name": "stdout",
          "text": [
            "[[1]]\n",
            "[1] \"3X//\" \"0Vt/\" \"3WV/\" \"2l//\"\n",
            "\n",
            "[[2]]\n",
            "[1] -24.75422 -24.42004 -24.28158 -23.79393\n",
            "\n",
            "[[3]]\n",
            "[[3]]$`1`\n",
            "[1] \"Inf\" \"Inf\" \"Inf\" \"Inf\"\n",
            "\n",
            "[[3]]$`2`\n",
            "[1] \"2V//\" \"Inf\"  \"Inf\"  \"Inf\" \n",
            "\n",
            "[[3]]$`3`\n",
            "[1] \"3XV/\" \"3Y//\" \"Inf\"  \"Inf\" \n",
            "\n",
            "[[3]]$`4`\n",
            "[1] \"3l//\" \"2V//\" \"3l//\" \"Inf\" \n",
            "\n",
            "\n",
            "[[4]]\n",
            "[[4]]$`1`\n",
            "[1] Inf Inf Inf Inf\n",
            "\n",
            "[[4]]$`2`\n",
            "[1] -22.62387       Inf       Inf       Inf\n",
            "\n",
            "[[4]]$`3`\n",
            "[1] -23.74503 -22.37974       Inf       Inf\n",
            "\n",
            "[[4]]$`4`\n",
            "[1] -23.49230 -22.62387 -23.49230       Inf\n",
            "\n",
            "\n"
          ]
        }
      ]
    },
    {
      "cell_type": "code",
      "source": [
        "%%R\n",
        "head(bootstrap_ene,3)"
      ],
      "metadata": {
        "colab": {
          "base_uri": "https://localhost:8080/"
        },
        "id": "5J7eExhPmYUD",
        "outputId": "f21924f1-b57e-4b8b-c833-d3a79a7106d0"
      },
      "execution_count": null,
      "outputs": [
        {
          "output_type": "stream",
          "name": "stdout",
          "text": [
            "        trial1    trial2    trial3    trial4    trial5    trial6    trial7\n",
            "3X// -24.11766 -25.37618 -24.16406 -25.11914 -24.61815 -24.55005 -24.88611\n",
            "0Vt/ -24.41154 -25.47760 -24.19867 -25.23427 -24.49169 -25.31062 -25.17884\n",
            "3WV/ -23.64777 -24.56104 -23.87329 -24.48279 -23.83455 -23.78481 -24.02858\n",
            "        trial8    trial9   trial10   trial11   trial12   trial13   trial14\n",
            "3X// -24.82286 -24.92025 -23.51294 -23.72925 -24.85163 -24.42289 -24.63643\n",
            "0Vt/ -24.04731 -24.73185 -24.26924 -24.91719 -25.21555 -24.86907 -24.11645\n",
            "3WV/ -24.39704 -24.04607 -23.26617 -23.32110 -23.91143 -23.64583 -24.05144\n",
            "       trial15   trial16   trial17   trial18   trial19   trial20   trial21\n",
            "3X// -24.70063 -24.95609 -24.42245 -24.92748 -24.84583 -24.56701 -24.12177\n",
            "0Vt/ -24.60921 -24.15434 -24.73542 -25.26589 -25.63493 -24.34913 -23.80716\n",
            "3WV/ -24.23929 -24.51968 -24.04988 -23.88077 -23.96679 -24.08478 -23.75173\n",
            "       trial22   trial23   trial24   trial25   trial26   trial27   trial28\n",
            "3X// -24.15379 -24.71702 -25.04179 -24.03749 -24.42122 -24.89017 -24.69228\n",
            "0Vt/ -24.74189 -23.86826 -25.02045 -24.67717 -24.11247 -24.53870 -24.22237\n",
            "3WV/ -23.40074 -24.08669 -24.20180 -23.53243 -24.40181 -24.46464 -24.50774\n",
            "       trial29   trial30   trial31   trial32   trial33   trial34   trial35\n",
            "3X// -24.58279 -24.30174 -24.54579 -25.17360 -24.94451 -24.93520 -24.91366\n",
            "0Vt/ -25.03228 -24.60478 -24.63934 -24.35974 -23.82806 -25.60577 -24.34487\n",
            "3WV/ -24.04238 -23.68727 -24.19952 -24.55958 -24.74262 -24.05633 -24.23357\n",
            "       trial36   trial37   trial38   trial39   trial40   trial41   trial42\n",
            "3X// -24.99511 -24.21841 -25.32930 -24.75171 -24.91142 -24.41058 -23.69982\n",
            "0Vt/ -25.23811 -23.97660 -25.21219 -24.20712 -24.83542 -24.98794 -23.83847\n",
            "3WV/ -24.18127 -23.79594 -24.61595 -24.65142 -24.11495 -23.82339 -23.68842\n",
            "       trial43   trial44   trial45   trial46   trial47   trial48   trial49\n",
            "3X// -25.16409 -24.99449 -24.86800 -24.58017 -24.81308 -24.21855 -24.14510\n",
            "0Vt/ -25.30795 -24.52509 -24.61284 -23.48187 -24.69892 -25.90348 -24.96782\n",
            "3WV/ -24.00252 -24.24822 -24.47130 -24.62760 -24.16657 -23.34592 -23.68650\n",
            "       trial50   trial51   trial52   trial53   trial54   trial55   trial56\n",
            "3X// -25.51582 -24.89909 -23.95414 -25.64490 -24.92634 -24.35761 -23.70760\n",
            "0Vt/ -24.84547 -25.65009 -25.79299 -24.70788 -24.71945 -25.95389 -25.69725\n",
            "3WV/ -24.71455 -24.19294 -23.43361 -24.84469 -24.11839 -23.55187 -23.36882\n",
            "       trial57   trial58   trial59   trial60   trial61   trial62   trial63\n",
            "3X// -23.89054 -24.24506 -24.36432 -24.50352 -24.08230 -24.75385 -24.39701\n",
            "0Vt/ -24.23318 -24.92175 -25.08889 -23.54437 -23.92218 -24.94960 -23.78250\n",
            "3WV/ -23.44919 -23.77304 -23.58120 -24.32260 -23.96503 -24.23614 -24.41476\n",
            "       trial64\n",
            "3X// -24.75422\n",
            "0Vt/ -24.42004\n",
            "3WV/ -24.28158\n"
          ]
        }
      ]
    },
    {
      "cell_type": "code",
      "execution_count": null,
      "metadata": {
        "colab": {
          "base_uri": "https://localhost:8080/"
        },
        "id": "rRFJ-Tp2qlpb",
        "outputId": "daed3b0e-f7df-494f-dd78-75785322b526"
      },
      "outputs": [
        {
          "output_type": "stream",
          "name": "stdout",
          "text": [
            "NULL\n"
          ]
        },
        {
          "output_type": "display_data",
          "data": {
            "image/png": "[encoded data removed]"
          },
          "metadata": {}
        }
      ],
      "source": [
        "%%R\n",
        "showDG(ela_rep,rand_mat,bootstrap_ene=bootstrap_ene)"
      ]
    }
  ],
  "metadata": {
    "colab": {
      "provenance": [],
      "include_colab_link": true
    },
    "kernelspec": {
      "display_name": "Python 3",
      "name": "python3"
    },
    "language_info": {
      "name": "python"
    }
  },
  "nbformat": 4,
  "nbformat_minor": 0
}