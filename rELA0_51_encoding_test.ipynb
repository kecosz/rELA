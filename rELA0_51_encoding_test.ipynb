{
  "nbformat": 4,
  "nbformat_minor": 0,
  "metadata": {
    "colab": {
      "provenance": [],
      "authorship_tag": "ABX9TyNYZkUv3JcLOn87KUsIvvAd",
      "include_colab_link": true
    },
    "kernelspec": {
      "name": "python3",
      "display_name": "Python 3"
    },
    "language_info": {
      "name": "python"
    }
  },
  "cells": [
    {
      "cell_type": "markdown",
      "metadata": {
        "id": "view-in-github",
        "colab_type": "text"
      },
      "source": [
        "<a href=\"https://colab.research.google.com/github/kecosz/rELA/blob/main/rELA0_51_encoding_test.ipynb\" target=\"_parent\"><img src=\"https://colab.research.google.com/assets/colab-badge.svg\" alt=\"Open In Colab\"/></a>"
      ]
    },
    {
      "cell_type": "markdown",
      "source": [
        "## rELA 0.51 encoding test\n",
        "In this notebook file, the accuracy of parameter fitting when using {-1,1} instead of the conventional {0,1} is tested on data generated with the heat bath method."
      ],
      "metadata": {
        "id": "SMUqqaOsK38p"
      }
    },
    {
      "cell_type": "markdown",
      "source": [
        "## Setup"
      ],
      "metadata": {
        "id": "Gu4g34_2043W"
      }
    },
    {
      "cell_type": "code",
      "source": [
        "## Mount Google Drive\n",
        "from google.colab import drive\n",
        "drive.mount('/content/drive')\n",
        "\n",
        "## rpy2 version specification\n",
        "### Required to successfully execute \"%load_ext rpy2.ipython\" as of 2023/1\n",
        "!pip install rpy2==3.5.1\n",
        "#!pip install --upgrade ipykernel\n",
        "%load_ext rpy2.ipython\n",
        "\n",
        "###The following codes is just for not showing rpy2 messages related to R package installation on google colab\n",
        "from rpy2.rinterface_lib.callbacks import logger as rpy2_logger\n",
        "import logging\n",
        "rpy2_logger.setLevel(logging.ERROR)   # will display errors, but not warnings\n",
        "\n",
        "## Doanload rELA package\n",
        "!rm -r rELA\n",
        "!git clone https://github.com/kecosz/rELA.git"
      ],
      "metadata": {
        "colab": {
          "base_uri": "https://localhost:8080/"
        },
        "id": "Tfiiqyn4AZjG",
        "outputId": "8431c951-1daa-4caa-8de7-b83f3f6965ed"
      },
      "execution_count": 1,
      "outputs": [
        {
          "output_type": "stream",
          "name": "stdout",
          "text": [
            "Mounted at /content/drive\n",
            "Collecting rpy2==3.5.1\n",
            "  Downloading rpy2-3.5.1.tar.gz (201 kB)\n",
            "\u001b[2K     \u001b[90m━━━━━━━━━━━━━━━━━━━━━━━━━━━━━━━━━━━━━━━━\u001b[0m \u001b[32m201.7/201.7 kB\u001b[0m \u001b[31m4.2 MB/s\u001b[0m eta \u001b[36m0:00:00\u001b[0m\n",
            "\u001b[?25h  Preparing metadata (setup.py) ... \u001b[?25l\u001b[?25hdone\n",
            "Requirement already satisfied: cffi>=1.10.0 in /usr/local/lib/python3.10/dist-packages (from rpy2==3.5.1) (1.16.0)\n",
            "Requirement already satisfied: jinja2 in /usr/local/lib/python3.10/dist-packages (from rpy2==3.5.1) (3.1.4)\n",
            "Requirement already satisfied: pytz in /usr/local/lib/python3.10/dist-packages (from rpy2==3.5.1) (2023.4)\n",
            "Requirement already satisfied: tzlocal in /usr/local/lib/python3.10/dist-packages (from rpy2==3.5.1) (5.2)\n",
            "Requirement already satisfied: pycparser in /usr/local/lib/python3.10/dist-packages (from cffi>=1.10.0->rpy2==3.5.1) (2.22)\n",
            "Requirement already satisfied: MarkupSafe>=2.0 in /usr/local/lib/python3.10/dist-packages (from jinja2->rpy2==3.5.1) (2.1.5)\n",
            "Building wheels for collected packages: rpy2\n",
            "  Building wheel for rpy2 (setup.py) ... \u001b[?25l\u001b[?25hdone\n",
            "  Created wheel for rpy2: filename=rpy2-3.5.1-cp310-cp310-linux_x86_64.whl size=314928 sha256=99da642d4e2923559e1064efb313bc545c4b3d2f94d5b5e1a5b678de828be3e3\n",
            "  Stored in directory: /root/.cache/pip/wheels/73/a6/ff/4e75dd1ce1cfa2b9a670cbccf6a1e41c553199e9b25f05d953\n",
            "Successfully built rpy2\n",
            "Installing collected packages: rpy2\n",
            "  Attempting uninstall: rpy2\n",
            "    Found existing installation: rpy2 3.4.2\n",
            "    Uninstalling rpy2-3.4.2:\n",
            "      Successfully uninstalled rpy2-3.4.2\n",
            "Successfully installed rpy2-3.5.1\n",
            "rm: cannot remove 'rELA': No such file or directory\n",
            "Cloning into 'rELA'...\n",
            "remote: Enumerating objects: 397, done.\u001b[K\n",
            "remote: Counting objects: 100% (222/222), done.\u001b[K\n",
            "remote: Compressing objects: 100% (157/157), done.\u001b[K\n",
            "remote: Total 397 (delta 103), reused 157 (delta 65), pack-reused 175\u001b[K\n",
            "Receiving objects: 100% (397/397), 6.44 MiB | 28.30 MiB/s, done.\n",
            "Resolving deltas: 100% (167/167), done.\n"
          ]
        }
      ]
    },
    {
      "cell_type": "code",
      "source": [
        "#### installation error has been resolved ###\n",
        "#%%R\n",
        "# [for Google Colab]\n",
        "# from v0.50, Due to errors in installing igraph and tidygraph\n",
        "#system(\"add-apt-repository -y ppa:marutter/rrutter4.0\")\n",
        "#system(\"add-apt-repository -y ppa:c2d4u.team/c2d4u4.0+\")\n",
        "#system(\"add-apt-repository ppa:cran/v8\")\n",
        "#system(\"apt-get update\")\n",
        "#system(\"apt-get install libnode-dev\")\n",
        "#system(\"apt-get install r-cran-igraph r-cran-tidygraph\")"
      ],
      "metadata": {
        "id": "_KBe-vdFdug6"
      },
      "execution_count": 2,
      "outputs": []
    },
    {
      "cell_type": "code",
      "source": [
        "%%R\n",
        "## package instllation\n",
        "install.packages(\"Rcpp\")\n",
        "install.packages(\"RcppArmadillo\")\n",
        "install.packages(\"doParallel\")\n",
        "install.packages('tidyverse')\n",
        "install.packages('gsubfn')\n",
        "install.packages('zoo')\n",
        "install.packages('plyr')\n",
        "install.packages('gtools')\n",
        "install.packages('ggsci')\n",
        "install.packages('igraph')\n",
        "install.packages('tidygraph')\n",
        "install.packages('RColorBrewer')\n",
        "install.packages(\"stringdist\")\n",
        "install.packages(\"purrr\")\n",
        "install.packages(\"plot3D\")\n",
        "library(\"Rcpp\")\n",
        "library(\"RcppArmadillo\")\n",
        "library(\"doParallel\")\n",
        "library('tidyverse')\n",
        "library('gsubfn')\n",
        "library('zoo')\n",
        "library('plyr')\n",
        "library('gtools')\n",
        "library('ggsci')\n",
        "library('igraph')\n",
        "library('tidygraph')\n",
        "library('RColorBrewer')\n",
        "library(\"stringdist\")\n",
        "library(\"purrr\")\n",
        "library(\"plot3D\")\n"
      ],
      "metadata": {
        "colab": {
          "base_uri": "https://localhost:8080/"
        },
        "id": "dD5_wbCLVip1",
        "outputId": "27202398-3147-48f5-8dfc-b90e8b4f5b8f"
      },
      "execution_count": 3,
      "outputs": [
        {
          "output_type": "stream",
          "name": "stdout",
          "text": [
            "── Attaching core tidyverse packages ──────────────────────── tidyverse 2.0.0 ──\n",
            "✔ dplyr     1.1.4     ✔ readr     2.1.5\n",
            "✔ forcats   1.0.0     ✔ stringr   1.5.1\n",
            "✔ ggplot2   3.4.4     ✔ tibble    3.2.1\n",
            "✔ lubridate 1.9.3     ✔ tidyr     1.3.1\n",
            "✔ purrr     1.0.2     \n",
            "── Conflicts ────────────────────────────────────────── tidyverse_conflicts() ──\n",
            "✖ purrr::%||%()       masks base::%||%()\n",
            "✖ purrr::accumulate() masks foreach::accumulate()\n",
            "✖ dplyr::filter()     masks stats::filter()\n",
            "✖ dplyr::lag()        masks stats::lag()\n",
            "✖ purrr::when()       masks foreach::when()\n",
            "ℹ Use the conflicted package (<http://conflicted.r-lib.org/>) to force all conflicts to become errors\n"
          ]
        }
      ]
    },
    {
      "cell_type": "code",
      "source": [
        "%%R\n",
        "# install rELA package\n",
        "install.packages(\"rELA/rELA.v0.51_encoding_test.tar.gz\")\n",
        "library(\"rELA\")"
      ],
      "metadata": {
        "id": "aY78xMLH-9MC"
      },
      "execution_count": 4,
      "outputs": []
    },
    {
      "cell_type": "code",
      "source": [
        "%%R\n",
        "# for validation\n",
        "\n",
        "#' @export\n",
        "logmon.sy <- function(y, h, J) {\n",
        "  # 行列のサイズを取得\n",
        "  n <- nrow(y)\n",
        "  m <- ncol(y)\n",
        "\n",
        "  # 内部の計算を実行\n",
        "  term <- - 2 * (h + y %*% J)\n",
        "  result <- 1 / (1 + exp(term))\n",
        "\n",
        "  return(result)\n",
        "}\n",
        "\n",
        "#' @export\n",
        "OnestepHBS.sy <- function(y, logmo) {\n",
        "  n <- nrow(y)\n",
        "  m <- ncol(y)\n",
        "\n",
        "  # Function to update one row of y\n",
        "  update_row <- function(row_y, row_logmo) {\n",
        "    position <- sample(1:m, 1)  # Randomly choose a position\n",
        "    ne <- ifelse(runif(1) < row_logmo[position], 1, -1)  # Compare with logmo\n",
        "    row_y[position] <- ne  # Update the chosen position\n",
        "    return(row_y)\n",
        "  }\n",
        "\n",
        "  # Apply the update_row function to each row\n",
        "  updated_y <- t(mapply(update_row, as.data.frame(t(y)), as.data.frame(t(logmo))))\n",
        "\n",
        "  return(updated_y)\n",
        "}\n",
        "\n",
        "#' @export\n",
        "HeatBath.sy <- function(steps, nproc, h, J) {\n",
        "  # 初期状態の設定\n",
        "  nn <- length(h)\n",
        "  y <- array(-1, dim = c(nproc, nn))\n",
        "\n",
        "  # 各ステップでの更新\n",
        "  for (i in 1:steps) {\n",
        "    logmo <- apply(y, 1, logmon.sy, h = h, J = J)\n",
        "    y <- OnestepHBS.sy(y, t(logmo))\n",
        "  }\n",
        "  colnames(y) <- seq(length(h))\n",
        "  return(y)\n",
        "}\n",
        "\n",
        "GradientDescent.sy <- function(data, maxit) {\n",
        "  units <- ncol(data)\n",
        "  tdata <- t(data)\n",
        "  e <- 10^-8\n",
        "  datalength <- nrow(data)\n",
        "  tuples <- as.matrix(expand.grid(rep(list(c(-1,1)), units)))\n",
        "  lt <- nrow(tuples)\n",
        "\n",
        "  semp <- colMeans(data)\n",
        "  ssemp <- t(data) %*% data / datalength * abs(diag(units) - 1)\n",
        "  htt <- rep(0, units)\n",
        "  jtt <- matrix(0, units, units)\n",
        "  ttt <- 0\n",
        "  while (ttt < maxit) {\n",
        "    ht <- htt\n",
        "    jt <- jtt\n",
        "    e0 <- apply(tuples, 1, Energy, htt, jtt)\n",
        "    en <- exp(-e0)\n",
        "    etot <- sum(en)\n",
        "    prb <- en / etot\n",
        "    pt <- prb * tuples\n",
        "    smod <- colSums(pt)\n",
        "    ssmod <- (t(pt) %*% tuples) * abs(diag(units) - 1)\n",
        "    dh <- 0.1 * ((semp + e) - (smod + e))\n",
        "    dj <- 0.1 * ((ssemp + e) - (ssmod + e))\n",
        "    htt <- ht + dh\n",
        "    jtt <- jt + dj\n",
        "    ttt <- ttt + 1\n",
        "  }\n",
        "\n",
        "  list(h.est = htt, j.est = jtt)\n",
        "}"
      ],
      "metadata": {
        "id": "-JpDaK0Uti9J"
      },
      "execution_count": 5,
      "outputs": []
    },
    {
      "cell_type": "code",
      "source": [
        "%%R\n",
        "hb.paramgen(8) #種数を指定して実行すると検証用のパラメータ h.act, j.actをグローバルに定義する\n",
        "data <- HeatBath.sy(500,512,h.act,j.act) #500ステップ×512個の並列の試行を行い、各試行の最後の状態のみ返す"
      ],
      "metadata": {
        "id": "zMdNNo6mG0t6"
      },
      "execution_count": 6,
      "outputs": []
    },
    {
      "cell_type": "code",
      "source": [
        "%%R\n",
        "sa <- runSA(ocmat=data, enmat=NULL, qth=10^-9, rep=128, threads=1, reporting=TRUE)\n",
        "gd <- GradientDescent.sy(data, 10000)"
      ],
      "metadata": {
        "id": "RAuVrLhWriu6",
        "colab": {
          "base_uri": "https://localhost:8080/"
        },
        "outputId": "354cd191-8190-4758-a5f6-e4c2da95835c"
      },
      "execution_count": 7,
      "outputs": [
        {
          "output_type": "stream",
          "name": "stdout",
          "text": [
            "Start parameter fitting:\n",
            "SA: elapsed time 18.56 sec\n",
            "\n"
          ]
        }
      ]
    },
    {
      "cell_type": "code",
      "source": [
        "%%R\n",
        "c(cor(sa[1][[1]][,1], h.act), cor(gd[[1]], h.act), cor(c(sa[1][[1]][,-1]), c(j.act)), cor(c(gd[[2]]), c(j.act)))"
      ],
      "metadata": {
        "colab": {
          "base_uri": "https://localhost:8080/"
        },
        "id": "4AyRzxuQ1MPV",
        "outputId": "3337a48a-b2db-4f70-cf14-d4f56c17fc01"
      },
      "execution_count": 8,
      "outputs": [
        {
          "output_type": "stream",
          "name": "stdout",
          "text": [
            "[1] 0.9362999 0.8319013 0.8516708 0.8382737\n"
          ]
        }
      ]
    },
    {
      "cell_type": "code",
      "source": [
        "%%R\n",
        "hh <- t(rbind(sa[1][[1]][,1], t(h.act)))\n",
        "plot(hh)\n",
        "hh <- t(rbind(gd[[1]], t(h.act)))\n",
        "plot(hh)"
      ],
      "metadata": {
        "colab": {
          "base_uri": "https://localhost:8080/",
          "height": 977
        },
        "id": "0jeNFi581RRY",
        "outputId": "25105af3-9c93-40e3-ae0f-4b35086f40e7"
      },
      "execution_count": 9,
      "outputs": [
        {
          "output_type": "display_data",
          "data": {
            "image/png": "[encoded data removed]"
          },
          "metadata": {}
        },
        {
          "output_type": "display_data",
          "data": {
            "image/png": "[encoded data removed]"
          },
          "metadata": {}
        }
      ]
    },
    {
      "cell_type": "code",
      "source": [
        "%%R\n",
        "start_time <- Sys.time()\n",
        "install.packages(\"progressr\")\n",
        "library(progressr)\n",
        "handlers(global = TRUE)\n",
        "handlers(\"progress\")\n",
        "\n",
        "\n",
        "set.seed(4)\n",
        "it <- 16\n",
        "h.acts <- list()\n",
        "j.acts <- list()\n",
        "result <- with_progress({\n",
        "  p <- progressor(along = 1:it)\n",
        "  foreach(i=1:it, .combine='rbind') %do% {\n",
        "    p(message = cat(\"=\"))\n",
        "    hb.paramgen(8)\n",
        "    h.acts <- c(h.acts, list(h.act))\n",
        "    j.acts <- c(j.acts, list(j.act))\n",
        "    data <- HeatBath.sy(500,512,h.act,j.act)\n",
        "    sa <- runSA(ocmat=data, enmat=NULL, qth=10^-9, rep=128, threads=1, reporting=FALSE)\n",
        "    gd <- GradientDescent.sy(data, 10000)\n",
        "    c(cor(sa[1][[1]][,1], h.act), cor(gd[[1]], h.act), cor(c(sa[1][[1]][,-1]), c(j.act)), cor(c(gd[[2]]), c(j.act)))\n",
        "    }\n",
        "})\n",
        "\n",
        "cat(\"\\n\")\n",
        "colnames(result) <- c(\"sa.h\",\"gd,h\",\"sa.J\",\"gd.J\")\n",
        "result <- data.frame(result)\n",
        "column_means <- colMeans(result)\n",
        "result <- rbind(result, mean = column_means)\n",
        "print(result)\n",
        "end_time <- Sys.time()\n",
        "elapsed_time <- end_time - start_time\n",
        "cat(\"elapsed time:\", elapsed_time, \"min. \\n\")"
      ],
      "metadata": {
        "colab": {
          "base_uri": "https://localhost:8080/"
        },
        "id": "SsbduSXn1Ylq",
        "outputId": "f988eefe-cac2-4b54-8d30-5fe5dbf71db1"
      },
      "execution_count": 12,
      "outputs": [
        {
          "output_type": "stream",
          "name": "stdout",
          "text": [
            "================\n",
            "               sa.h      gd.h      sa.J      gd.J\n",
            "result.1  0.6830511 0.7867889 0.4878647 0.8029522\n",
            "result.2  0.8171710 0.8861904 0.7387663 0.7725268\n",
            "result.3  0.9073541 0.9129988 0.8050587 0.9003586\n",
            "result.4  0.6713423 0.8733156 0.4636202 0.6130263\n",
            "result.5  0.9065226 0.8384294 0.8816915 0.8605105\n",
            "result.6  0.6567676 0.9469793 0.7437849 0.8516907\n",
            "result.7  0.6907080 0.7012212 0.8394219 0.8260105\n",
            "result.8  0.8099667 0.8491055 0.8300004 0.8319361\n",
            "result.9  0.9492323 0.9502100 0.9388392 0.9357151\n",
            "result.10 0.8495019 0.8719613 0.8578478 0.8713283\n",
            "result.11 0.8962373 0.9257045 0.7148310 0.7972706\n",
            "result.12 0.9637877 0.9063841 0.8835280 0.8560147\n",
            "result.13 0.9064978 0.8274160 0.9469828 0.9482631\n",
            "result.14 0.8938833 0.7497389 0.7690523 0.7938517\n",
            "result.15 0.6847417 0.7639558 0.8258464 0.8114524\n",
            "result.16 0.7276133 0.6744153 0.6766780 0.7365198\n",
            "mean      0.8133987 0.8415509 0.7752384 0.8255892\n",
            "elapsed time: 26.40516 min. \n"
          ]
        }
      ]
    }
  ]
}