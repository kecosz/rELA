{
  "cells": [
    {
      "cell_type": "markdown",
      "metadata": {
        "id": "view-in-github",
        "colab_type": "text"
      },
      "source": [
        "<a href=\"https://colab.research.google.com/github/kecosz/rELA/blob/main/rELA0_81_x_tutorial.ipynb\" target=\"_parent\"><img src=\"https://colab.research.google.com/assets/colab-badge.svg\" alt=\"Open In Colab\"/></a>"
      ]
    },
    {
      "cell_type": "markdown",
      "metadata": {
        "id": "SMUqqaOsK38p"
      },
      "source": [
        "## Tutorial for rELA 0.81.x\n",
        "### Notes:\n",
        "\n",
        "### 0.81.x\n",
        "\n",
        "#### **Implementing *LDA* algorithm in the preprocessing step based on Zhang and Nakaoka (2024, PLOS One).**\n",
        "\n",
        "The Latent Dirichlet Allocation (LDA) model enables energy landscape analysis (ELA) to be performed in terms of microbiome assemblages, providing a more coarse-grained view of community state transitions.\n"
      ]
    },
    {
      "cell_type": "markdown",
      "metadata": {
        "id": "Gu4g34_2043W"
      },
      "source": [
        "## Setup"
      ]
    },
    {
      "cell_type": "code",
      "execution_count": null,
      "metadata": {
        "colab": {
          "base_uri": "https://localhost:8080/"
        },
        "id": "Tfiiqyn4AZjG",
        "outputId": "e7c9c83b-d94b-4059-fccb-bcb5cbe8bbba"
      },
      "outputs": [
        {
          "output_type": "stream",
          "name": "stdout",
          "text": [
            "Drive already mounted at /content/drive; to attempt to forcibly remount, call drive.mount(\"/content/drive\", force_remount=True).\n",
            "Requirement already satisfied: rpy2==3.5.1 in /usr/local/lib/python3.12/dist-packages (3.5.1)\n",
            "Requirement already satisfied: cffi>=1.10.0 in /usr/local/lib/python3.12/dist-packages (from rpy2==3.5.1) (2.0.0)\n",
            "Requirement already satisfied: jinja2 in /usr/local/lib/python3.12/dist-packages (from rpy2==3.5.1) (3.1.6)\n",
            "Requirement already satisfied: pytz in /usr/local/lib/python3.12/dist-packages (from rpy2==3.5.1) (2025.2)\n",
            "Requirement already satisfied: tzlocal in /usr/local/lib/python3.12/dist-packages (from rpy2==3.5.1) (5.3.1)\n",
            "Requirement already satisfied: pycparser in /usr/local/lib/python3.12/dist-packages (from cffi>=1.10.0->rpy2==3.5.1) (2.23)\n",
            "Requirement already satisfied: MarkupSafe>=2.0 in /usr/local/lib/python3.12/dist-packages (from jinja2->rpy2==3.5.1) (3.0.3)\n",
            "Cloning into 'rELA'...\n",
            "remote: Enumerating objects: 1076, done.\u001b[K\n",
            "remote: Counting objects: 100% (373/373), done.\u001b[K\n",
            "remote: Compressing objects: 100% (69/69), done.\u001b[K\n",
            "remote: Total 1076 (delta 357), reused 304 (delta 304), pack-reused 703 (from 1)\u001b[K\n",
            "Receiving objects: 100% (1076/1076), 11.85 MiB | 12.04 MiB/s, done.\n",
            "Resolving deltas: 100% (532/532), done.\n"
          ]
        }
      ],
      "source": [
        "## Mount Google Drive\n",
        "from google.colab import drive\n",
        "drive.mount('/content/drive')\n",
        "\n",
        "## rpy2 version specification\n",
        "### Required to successfully execute \"%load_ext rpy2.ipython\" as of 2023/1\n",
        "!pip install rpy2==3.5.1\n",
        "#!pip install --upgrade ipykernel\n",
        "%load_ext rpy2.ipython\n",
        "\n",
        "###The following codes is just for not showing rpy2 messages related to R package installation on google colab\n",
        "from rpy2.rinterface_lib.callbacks import logger as rpy2_logger\n",
        "import logging\n",
        "rpy2_logger.setLevel(logging.ERROR)   # will display errors, but not warnings\n",
        "\n",
        "## Doanload rELA package\n",
        "!rm -r rELA\n",
        "!git clone https://github.com/kecosz/rELA.git"
      ]
    },
    {
      "cell_type": "code",
      "source": [
        "%%shell\n",
        "# for topicmodels\n",
        "sudo apt install gsl-bin libgsl-dbg libgsl-dev libgslcblas0"
      ],
      "metadata": {
        "colab": {
          "base_uri": "https://localhost:8080/"
        },
        "id": "GGo1W2G-YQ5s",
        "outputId": "3278bd8f-c5f4-40bc-b44c-cdeb1ea4836a"
      },
      "execution_count": null,
      "outputs": [
        {
          "output_type": "stream",
          "name": "stdout",
          "text": [
            "Reading package lists... Done\n",
            "Building dependency tree... Done\n",
            "Reading state information... Done\n",
            "gsl-bin is already the newest version (2.7.1+dfsg-3).\n",
            "libgsl-dbg is already the newest version (2.7.1+dfsg-3).\n",
            "libgsl-dev is already the newest version (2.7.1+dfsg-3).\n",
            "libgslcblas0 is already the newest version (2.7.1+dfsg-3).\n",
            "0 upgraded, 0 newly installed, 0 to remove and 41 not upgraded.\n"
          ]
        },
        {
          "output_type": "execute_result",
          "data": {
            "text/plain": []
          },
          "metadata": {},
          "execution_count": 2
        }
      ]
    },
    {
      "cell_type": "code",
      "execution_count": null,
      "metadata": {
        "id": "dD5_wbCLVip1"
      },
      "outputs": [],
      "source": [
        "%%R\n",
        "## package instllation\n",
        "install.packages(\"Rcpp\")\n",
        "install.packages(\"RcppArmadillo\")\n",
        "install.packages(\"doParallel\")\n",
        "install.packages('tidyverse')\n",
        "install.packages('gsubfn')\n",
        "install.packages('zoo')\n",
        "install.packages('dplyr')\n",
        "install.packages('tidyr')\n",
        "install.packages('ggplot2')\n",
        "install.packages('gtools')\n",
        "install.packages('ggsci')\n",
        "install.packages('igraph')\n",
        "install.packages('tidygraph')\n",
        "install.packages('RColorBrewer')\n",
        "install.packages(\"stringdist\")\n",
        "install.packages(\"purrr\")\n",
        "install.packages(\"plot3D\")\n",
        "install.packages(\"devtools\")\n",
        "\n",
        "library(\"Rcpp\")\n",
        "library(\"RcppArmadillo\")\n",
        "library(\"doParallel\")\n",
        "library('tidyverse')\n",
        "library('gsubfn')\n",
        "library('zoo')\n",
        "library('dplyr')\n",
        "library('tidyr')\n",
        "library('ggplot2')\n",
        "library('gtools')\n",
        "library('ggsci')\n",
        "library('igraph')\n",
        "library('tidygraph')\n",
        "library('RColorBrewer')\n",
        "library(\"stringdist\")\n",
        "library(\"purrr\")\n",
        "library(\"plot3D\")\n",
        "library(\"devtools\")"
      ]
    },
    {
      "cell_type": "code",
      "source": [
        "%%R\n",
        "# for LDA\n",
        "install.packages(c(\"topicmodels\", \"Matrix\", \"glmnet\", \"ggplot2\",\"stm\", \"quanteda\"))"
      ],
      "metadata": {
        "id": "9vgynyC3Rt0D"
      },
      "execution_count": null,
      "outputs": []
    },
    {
      "cell_type": "code",
      "source": [
        "%%R\n",
        "# for LDA\n",
        "library(\"topicmodels\")\n",
        "library(\"Matrix\")\n",
        "library(\"stats\")\n",
        "library(\"stm\")\n",
        "library(\"quanteda\")"
      ],
      "metadata": {
        "id": "LjafAo1sN277"
      },
      "execution_count": null,
      "outputs": []
    },
    {
      "cell_type": "code",
      "execution_count": null,
      "metadata": {
        "id": "u76zG5j-XXaz"
      },
      "outputs": [],
      "source": [
        "%%R\n",
        "# If already installed\n",
        "detach(\"package:rELA\",unload=TRUE)\n",
        "remove.packages(\"rELA\")"
      ]
    },
    {
      "cell_type": "code",
      "execution_count": null,
      "metadata": {
        "id": "n8BXEKHwhHwS"
      },
      "outputs": [],
      "source": [
        "%%R\n",
        "install.packages(\"rELA/rELA.v0.81.x.tar.gz\")\n",
        "library(\"rELA\")"
      ]
    },
    {
      "cell_type": "markdown",
      "metadata": {
        "id": "CG_JXBbZKA8O"
      },
      "source": [
        "### Using randomly generated parameter sets"
      ]
    },
    {
      "cell_type": "code",
      "execution_count": null,
      "metadata": {
        "id": "zMdNNo6mG0t6",
        "colab": {
          "base_uri": "https://localhost:8080/"
        },
        "outputId": "348021b7-f96b-4ad9-bd25-c88fdb1317b5"
      },
      "outputs": [
        {
          "output_type": "stream",
          "name": "stdout",
          "text": [
            "[1] 512  32\n"
          ]
        }
      ],
      "source": [
        "%%R\n",
        "# create dummy data by Dirichlet-Multinominal distribution\n",
        "# Usage: RandDirichletSet(nspecies, nbasins, nsamples, n_reads=n_reads)\n",
        "\n",
        "# randDCmat : abndance matrix based on the DM distribution\n",
        "# prob_vec : probability vector of dirichlet distribution\n",
        "# vec_idx : indices (indicating category number which each sample belongs to)\n",
        "list[randDCmat,prob_vec,vec_idx] <- RandDirichletSet(32, 7, 512, n_reads=10000)"
      ]
    },
    {
      "cell_type": "code",
      "execution_count": null,
      "metadata": {
        "colab": {
          "base_uri": "https://localhost:8080/"
        },
        "id": "OlB2rHVaZ_Ea",
        "outputId": "0a2fbc47-f251-4a94-adaa-7340cc6b86c5"
      },
      "outputs": [
        {
          "output_type": "stream",
          "name": "stdout",
          "text": [
            "         species.1 species.2 species.3 species.4 species.5 species.6 species.7\n",
            "sample.1       246       327        99       319       121       113       573\n",
            "sample.2       220       282       109       338       119       135       589\n",
            "sample.3       262       299       129       319       131        95       521\n",
            "sample.4       231       340       113       361       102       118       575\n",
            "sample.5       257       306       109       380       120        98       539\n",
            "sample.6       258       299       114       345       112        97       574\n",
            "         species.8 species.9 species.10 species.11 species.12 species.13\n",
            "sample.1       119        65        147        216         70        207\n",
            "sample.2       112        77        167        254         69        229\n",
            "sample.3       124        84        149        220         89        182\n",
            "sample.4       123        83        158        251         84        236\n",
            "sample.5       106        73        161        212         71        207\n",
            "sample.6       121        73        165        247         66        202\n",
            "         species.14 species.15 species.16 species.17 species.18 species.19\n",
            "sample.1        733        125         99        140        299        224\n",
            "sample.2        785        125         80        123        286        210\n",
            "sample.3        812        139        107        128        320        228\n",
            "sample.4        721        129         89        134        319        195\n",
            "sample.5        737        114         87        113        310        208\n",
            "sample.6        747        115         90        131        326        201\n",
            "         species.20 species.21 species.22 species.23 species.24 species.25\n",
            "sample.1         32        280        493         32        544        614\n",
            "sample.2         33        276        487         33        547        571\n",
            "sample.3         29        276        482         29        540        646\n",
            "sample.4         37        271        526         35        538        619\n",
            "sample.5         42        278        541         27        516        615\n",
            "sample.6         30        286        478         22        558        647\n",
            "         species.26 species.27 species.28 species.29 species.30 species.31\n",
            "sample.1        311         50        671       1793        195        378\n",
            "sample.2        303         64        684       1761        232        329\n",
            "sample.3        287         58        698       1752        177        328\n",
            "sample.4        323         52        642       1724        194        350\n",
            "sample.5        320         51        692       1767        208        371\n",
            "sample.6        339         58        673       1721        175        335\n",
            "         species.32\n",
            "sample.1        365\n",
            "sample.2        371\n",
            "sample.3        360\n",
            "sample.4        327\n",
            "sample.5        364\n",
            "sample.6        395\n"
          ]
        }
      ],
      "source": [
        "%%R\n",
        "head(randDCmat)"
      ]
    },
    {
      "cell_type": "markdown",
      "metadata": {
        "id": "VBnEq4R1Ysjs"
      },
      "source": [
        "### run LDA"
      ]
    },
    {
      "cell_type": "code",
      "execution_count": null,
      "metadata": {
        "colab": {
          "base_uri": "https://localhost:8080/"
        },
        "id": "RAuVrLhWriu6",
        "outputId": "8452463f-4c19-41c8-c7b5-0a11fa5bda19"
      },
      "outputs": [
        {
          "output_type": "stream",
          "name": "stdout",
          "text": [
            "[1] \"LDA finished.\"\n"
          ]
        }
      ],
      "source": [
        "%%R\n",
        "#'lda_for_ela\n",
        "#'@description Run LDA using optimal assemblage numbers (K)\n",
        "#'\n",
        "#'@param abtable (randDCmat, here) : taxa abundance data (without binarization)\n",
        "#'@param M: multiplied factors for converting to interger matrix\n",
        "#'@param K_grid : array of Ks used for searching optimal clusters (K)\n",
        "#'@param K_fixed: (integer) used for stm.if NULL, optimal K will be searched using K_grid.\n",
        "#'@param seed : the random seed for clustering.\n",
        "#'@param train_idx : indices used for training.\n",
        "#'@param Normalize : (bool) If true, the data will be normalized so that the sum of each row is 1.\n",
        "#'@returns k_opt : used K for lda\n",
        "#'@returns theta : sample-assemblage matrix\n",
        "#'@returns beta : assemblage-taxa matrix)\n",
        "#'----\n",
        "\n",
        "list[k_summary,lda_mat,lda_beta] <- lda_for_ela(randDCmat, M=1000, K_grid = 5:10,\n",
        "                                                 K_fixed = NULL,seed = 123,train_idx = NULL,\n",
        "                                                 Normalize=TRUE)"
      ]
    },
    {
      "cell_type": "code",
      "source": [
        "%%R\n",
        "# showing summary for K search\n",
        "k_summary"
      ],
      "metadata": {
        "colab": {
          "base_uri": "https://localhost:8080/"
        },
        "id": "fZqa1l7saSwC",
        "outputId": "068250ff-fcbd-472b-dcd3-e29cb6346b5e"
      },
      "execution_count": null,
      "outputs": [
        {
          "output_type": "stream",
          "name": "stdout",
          "text": [
            "   K   logLik perplexity\n",
            "5  9 -1565795   21.29187\n",
            "6 10 -1566117   21.30525\n",
            "4  8 -1569852   21.46124\n",
            "3  7 -1571232   21.51918\n",
            "1  5 -1575042   21.67992\n",
            "2  6 -1575653   21.70580\n"
          ]
        }
      ]
    },
    {
      "cell_type": "code",
      "execution_count": null,
      "metadata": {
        "colab": {
          "base_uri": "https://localhost:8080/",
          "height": 497
        },
        "id": "Bd5-qmqSv6PR",
        "outputId": "752da7f5-5f12-44a3-e2a3-2f73bd23571c"
      },
      "outputs": [
        {
          "output_type": "display_data",
          "data": {
            "image/png": "[encoded data removed]"
          },
          "metadata": {}
        }
      ],
      "source": [
        "%%R\n",
        "# We verify whether samples with similar transformed composition after performing LDA\n",
        "# on an abundance matrix generated by a Dirichlet multinominal distribution\n",
        "# share the same label (species distribution) in the original Dirichlet distribution.\n",
        "\n",
        "# We perform PCA on the matrix after applying LDA and plot the sample composition on two-dimension.\n",
        "# We then confirm whether the observed clusters in PCA match the labels in the original distribution.\n",
        "\n",
        "# PCA\n",
        "p <- prcomp(lda_mat, center = TRUE, scale. = TRUE)\n",
        "scores <- as.data.frame(p$x[, 1:2])\n",
        "var_exp <- (p$sdev^2) / sum(p$sdev^2)\n",
        "scores$label <- factor(vec_idx) # labeling\n",
        "ggplot(scores, aes(x = PC1, y = PC2, color = label)) + # PC plot\n",
        "  geom_point(size = 2, alpha = 0.85) +\n",
        "  coord_equal() +\n",
        "  labs(\n",
        "    x = sprintf(\"PC1 (%.1f%%)\", 100 * var_exp[1]),\n",
        "    y = sprintf(\"PC2 (%.1f%%)\", 100 * var_exp[2]),\n",
        "    color = \"Label\"\n",
        "  ) +\n",
        "  theme_minimal(base_size = 12)"
      ]
    },
    {
      "cell_type": "markdown",
      "metadata": {
        "id": "h9SBSi9IraUA"
      },
      "source": [
        "## run ELA using cluster-based matrix (LDA)\n"
      ]
    },
    {
      "cell_type": "code",
      "source": [
        "%%R\n",
        "head(lda_mat)"
      ],
      "metadata": {
        "colab": {
          "base_uri": "https://localhost:8080/"
        },
        "id": "_-PAE3VvqMXd",
        "outputId": "bf412fec-fccc-4ca3-96ae-c8c12655a835"
      },
      "execution_count": null,
      "outputs": [
        {
          "output_type": "stream",
          "name": "stdout",
          "text": [
            "                 1            2         3            4         5            6\n",
            "sample.1 0.3070371 3.418445e-05 0.2564559 3.418445e-05 0.4363019 3.418445e-05\n",
            "sample.2 0.3201060 3.415024e-05 0.2647488 3.415024e-05 0.4149403 3.415024e-05\n",
            "sample.3 0.3288916 3.404803e-05 0.2611979 3.404803e-05 0.4097062 3.404803e-05\n",
            "sample.4 0.2863457 3.411610e-05 0.2924276 3.411610e-05 0.4210220 3.411610e-05\n",
            "sample.5 0.3128472 3.404803e-05 0.2583006 3.404803e-05 0.4286479 3.404803e-05\n",
            "sample.6 0.3430909 3.404803e-05 0.2578053 3.404803e-05 0.3988995 3.404803e-05\n",
            "                    7            8            9\n",
            "sample.1 3.418445e-05 3.418445e-05 3.418445e-05\n",
            "sample.2 3.415024e-05 3.415024e-05 3.415024e-05\n",
            "sample.3 3.404803e-05 3.404803e-05 3.404803e-05\n",
            "sample.4 3.411610e-05 3.411610e-05 3.411610e-05\n",
            "sample.5 3.404803e-05 3.404803e-05 3.404803e-05\n",
            "sample.6 3.404803e-05 3.404803e-05 3.404803e-05\n"
          ]
        }
      ]
    },
    {
      "cell_type": "code",
      "execution_count": null,
      "metadata": {
        "colab": {
          "base_uri": "https://localhost:8080/"
        },
        "id": "4DL-ktCo3lQU",
        "outputId": "07512e53-dd85-4910-8d9a-6e8fcfa2c5b2"
      },
      "outputs": [
        {
          "output_type": "stream",
          "name": "stdout",
          "text": [
            "Processed 512 samples.\n",
            "Relative abundance threshold = 0.01 \n",
            "Occurrence threshold (lower) = 0.01 \n",
            "Occurrence threshold (upper) = 0.99 \n",
            "Selected  9  out of  9 species.\n",
            "Try: lambda=0.000050, we=0.001000, runadamW=TRUE, Sparse=TRUE\n",
            "\n",
            "Try: lambda=0.001000, we=0.001000, runadamW=TRUE, Sparse=TRUE\n",
            "\n",
            "Try: lambda=0.005000, we=0.001000, runadamW=TRUE, Sparse=TRUE\n",
            "\n",
            "Try: lambda=0.010000, we=0.001000, runadamW=TRUE, Sparse=TRUE\n",
            "\n"
          ]
        }
      ],
      "source": [
        "%%R\n",
        "# run parameter fitting\n",
        "list[ocvecs, abvecs, envecs, samplelabel, specieslabel, factorlabel] <- Formatting(lda_mat, NULL, 0, c(0.01, 0.01, 0.99))\n",
        "list[bp,allresults] <- Findbp(ocvecs,enmat=NULL,rep=32,threads=2,ssize = 0.5,\n",
        "                              fastfitting = TRUE,intv=100,runadamW=TRUE,sparse=TRUE,\n",
        "                              lmd = c(5e-05,0.001,0.005,0.01),\n",
        "                              totalit=3000,maxlr=0.2)\n"
      ]
    },
    {
      "cell_type": "code",
      "execution_count": null,
      "metadata": {
        "id": "KpxMpgriGu30",
        "colab": {
          "base_uri": "https://localhost:8080/",
          "height": 497
        },
        "outputId": "2dff90ac-5430-4025-953c-84acef138131"
      },
      "outputs": [
        {
          "output_type": "display_data",
          "data": {
            "image/png": "[encoded data removed]"
          },
          "metadata": {}
        }
      ],
      "source": [
        "%%R\n",
        "plotSAtest(allresults,ylim=c(0,2))"
      ]
    },
    {
      "cell_type": "code",
      "source": [
        "%%R\n",
        "list[lmd,we,totalit] <- as.numeric(unlist(strsplit(names(bp)[1], split = \"_\")))\n",
        "sa <- runSA(ocvecs, enmat=NULL, rep = 64,threads=2,\n",
        "            getall=FALSE, totalit=totalit,\n",
        "            lambda = lmd, we = we, maxlr = 0.2)\n",
        "\n",
        "list[he,je,ge,envecs] <- sa2params(sa)\n"
      ],
      "metadata": {
        "colab": {
          "base_uri": "https://localhost:8080/"
        },
        "id": "okiIm8aroS_j",
        "outputId": "dfc4a361-8519-4a28-c46e-f9d20c6469c1"
      },
      "execution_count": null,
      "outputs": [
        {
          "output_type": "stream",
          "name": "stdout",
          "text": [
            "Start parameter fitting:\n",
            "SA: elapsed time 40.28 sec\n",
            "\n"
          ]
        }
      ]
    },
    {
      "cell_type": "markdown",
      "source": [
        "### Running ELA."
      ],
      "metadata": {
        "id": "GGs8NC-nk307"
      }
    },
    {
      "cell_type": "code",
      "source": [
        "%%R\n",
        "ela <- ELA(sa, env=NULL,\n",
        "           SS.itr=20000, FindingTip.itr=10000, # <- the number of steps for finding stable states and tipping points (basically no need to change)\n",
        "           threads=2, reporting=TRUE)\n",
        "\n",
        "elap <- ELPruning(ela, th=0.1)"
      ],
      "metadata": {
        "colab": {
          "base_uri": "https://localhost:8080/"
        },
        "id": "q0O8skPQqo_r",
        "outputId": "8ba1b0f1-eab0-4b8e-a229-91b041395bb1"
      },
      "execution_count": null,
      "outputs": [
        {
          "output_type": "stream",
          "name": "stdout",
          "text": [
            "Start ELA:\n",
            "6 stable states were found.\n",
            "Checking 15 tipping points.\n",
            "converting...\n",
            "ELA: elapsed time 0.63 sec\n",
            "Start pruning:\n",
            "*.\n",
            "ELPruning: elapsed time 0.08 sec\n"
          ]
        }
      ]
    },
    {
      "cell_type": "code",
      "source": [
        "%%R\n",
        "# show DG Graph\n",
        "showDG(ela, lda_mat)"
      ],
      "metadata": {
        "colab": {
          "base_uri": "https://localhost:8080/",
          "height": 515
        },
        "id": "XtXEjHztp81f",
        "outputId": "52cf243e-19b9-4e42-ee77-ddeec1392aae"
      },
      "execution_count": null,
      "outputs": [
        {
          "output_type": "stream",
          "name": "stdout",
          "text": [
            "NULL\n"
          ]
        },
        {
          "output_type": "display_data",
          "data": {
            "image/png": "[encoded data removed]"
          },
          "metadata": {}
        }
      ]
    },
    {
      "cell_type": "markdown",
      "source": [
        "### Extact key species involving transition between 2 stable states from assemlage matrix."
      ],
      "metadata": {
        "id": "4i4p-TNPlBju"
      }
    },
    {
      "cell_type": "code",
      "source": [
        "%%R\n",
        "nclusters <- 9\n",
        "target1 <- \"C5G\"\n",
        "target2 <- \"C0b\"\n",
        "# \"C0b\" -> \"C5G\"\n",
        "transition_1 <- t(lda_beta) %*%　id2bin(target1,nclusters) - t(lda_beta) %*%　id2bin(target2,nclusters)\n",
        "transition_1 <- transition_1[order(transition_1, decreasing = TRUE), ]\n",
        "transition_1\n",
        "\n",
        "# Because species.29 constitutes the majority of the assemblages changed from C0b to C5G,\n",
        "# its abundance increases during this transition process.\n",
        "# On the other hand, species.21 exhibits a large negative value,\n",
        "# indicating that its abundance decreases during this transition process."
      ],
      "metadata": {
        "colab": {
          "base_uri": "https://localhost:8080/"
        },
        "id": "BP7G5_hGCj0G",
        "outputId": "376c4db6-4eb4-4402-feea-246dd5b23e44"
      },
      "execution_count": null,
      "outputs": [
        {
          "output_type": "stream",
          "name": "stdout",
          "text": [
            "  species.29   species.14   species.25    species.7   species.22   species.24 \n",
            " 0.388753738  0.150039611  0.143286335  0.133332230  0.093254833  0.055934324 \n",
            "  species.26   species.31   species.17   species.32    species.4   species.18 \n",
            " 0.050493797  0.034488740  0.034297451  0.032443190  0.031822281  0.029330212 \n",
            "  species.28    species.2    species.1   species.16    species.3   species.19 \n",
            " 0.028416516  0.019995123  0.008706122 -0.002932774 -0.017090419 -0.017183811 \n",
            "   species.6   species.15   species.20    species.8   species.27   species.23 \n",
            "-0.018597023 -0.030959752 -0.034454372 -0.036543049 -0.040665701 -0.045532990 \n",
            "  species.11   species.10   species.13    species.9    species.5   species.12 \n",
            "-0.058029005 -0.062920560 -0.088955968 -0.126633083 -0.139957960 -0.165420175 \n",
            "  species.30   species.21 \n",
            "-0.168117657 -0.180600201 \n"
          ]
        }
      ]
    },
    {
      "cell_type": "code",
      "source": [
        "%%R\n",
        "# opposite case to the above example\n",
        "# \"C5G\" -> \"C0b\"\n",
        "transition_2 <- t(lda_beta) %*% id2bin(target2,nclusters) - t(lda_beta) %*% id2bin(target1,nclusters)\n",
        "transition_2 <- transition_2[order(transition_2, decreasing = TRUE), ]\n",
        "transition_2"
      ],
      "metadata": {
        "colab": {
          "base_uri": "https://localhost:8080/"
        },
        "id": "UpJhROEGrAut",
        "outputId": "6e50f303-23dc-409e-a862-0c96e55c4f18"
      },
      "execution_count": null,
      "outputs": [
        {
          "output_type": "stream",
          "name": "stdout",
          "text": [
            "  species.21   species.30   species.12    species.5    species.9   species.13 \n",
            " 0.180600201  0.168117657  0.165420175  0.139957960  0.126633083  0.088955968 \n",
            "  species.10   species.11   species.23   species.27    species.8   species.20 \n",
            " 0.062920560  0.058029005  0.045532990  0.040665701  0.036543049  0.034454372 \n",
            "  species.15    species.6   species.19    species.3   species.16    species.1 \n",
            " 0.030959752  0.018597023  0.017183811  0.017090419  0.002932774 -0.008706122 \n",
            "   species.2   species.28   species.18    species.4   species.32   species.17 \n",
            "-0.019995123 -0.028416516 -0.029330212 -0.031822281 -0.032443190 -0.034297451 \n",
            "  species.31   species.26   species.24   species.22    species.7   species.25 \n",
            "-0.034488740 -0.050493797 -0.055934324 -0.093254833 -0.133332230 -0.143286335 \n",
            "  species.14   species.29 \n",
            "-0.150039611 -0.388753738 \n"
          ]
        }
      ]
    }
  ],
  "metadata": {
    "colab": {
      "provenance": [],
      "include_colab_link": true
    },
    "kernelspec": {
      "display_name": "Python 3",
      "name": "python3"
    },
    "language_info": {
      "name": "python"
    }
  },
  "nbformat": 4,
  "nbformat_minor": 0
}