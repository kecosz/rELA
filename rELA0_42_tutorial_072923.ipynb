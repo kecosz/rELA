{
  "nbformat": 4,
  "nbformat_minor": 0,
  "metadata": {
    "colab": {
      "provenance": [],
      "authorship_tag": "ABX9TyOo1yaVUivs97MPM8qMOCP9",
      "include_colab_link": true
    },
    "kernelspec": {
      "name": "python3",
      "display_name": "Python 3"
    },
    "language_info": {
      "name": "python"
    }
  },
  "cells": [
    {
      "cell_type": "markdown",
      "metadata": {
        "id": "view-in-github",
        "colab_type": "text"
      },
      "source": [
        "<a href=\"https://colab.research.google.com/github/kecosz/rELA/blob/main/rELA0_42_tutorial_072923.ipynb\" target=\"_parent\"><img src=\"https://colab.research.google.com/assets/colab-badge.svg\" alt=\"Open In Colab\"/></a>"
      ]
    },
    {
      "cell_type": "markdown",
      "source": [
        "## Preparation\n",
        "### Mounting Google Drive"
      ],
      "metadata": {
        "id": "Gu4g34_2043W"
      }
    },
    {
      "cell_type": "code",
      "source": [
        "!cat /proc/cpuinfo"
      ],
      "metadata": {
        "colab": {
          "base_uri": "https://localhost:8080/"
        },
        "id": "dD5_wbCLVip1",
        "outputId": "5e466cf4-1fda-47a8-9c18-efc82d3ce6e8"
      },
      "execution_count": null,
      "outputs": [
        {
          "output_type": "stream",
          "name": "stdout",
          "text": [
            "processor\t: 0\n",
            "vendor_id\t: GenuineIntel\n",
            "cpu family\t: 6\n",
            "model\t\t: 79\n",
            "model name\t: Intel(R) Xeon(R) CPU @ 2.20GHz\n",
            "stepping\t: 0\n",
            "microcode\t: 0xffffffff\n",
            "cpu MHz\t\t: 2199.998\n",
            "cache size\t: 56320 KB\n",
            "physical id\t: 0\n",
            "siblings\t: 2\n",
            "core id\t\t: 0\n",
            "cpu cores\t: 1\n",
            "apicid\t\t: 0\n",
            "initial apicid\t: 0\n",
            "fpu\t\t: yes\n",
            "fpu_exception\t: yes\n",
            "cpuid level\t: 13\n",
            "wp\t\t: yes\n",
            "flags\t\t: fpu vme de pse tsc msr pae mce cx8 apic sep mtrr pge mca cmov pat pse36 clflush mmx fxsr sse sse2 ss ht syscall nx pdpe1gb rdtscp lm constant_tsc rep_good nopl xtopology nonstop_tsc cpuid tsc_known_freq pni pclmulqdq ssse3 fma cx16 pcid sse4_1 sse4_2 x2apic movbe popcnt aes xsave avx f16c rdrand hypervisor lahf_lm abm 3dnowprefetch invpcid_single ssbd ibrs ibpb stibp fsgsbase tsc_adjust bmi1 hle avx2 smep bmi2 erms invpcid rtm rdseed adx smap xsaveopt arat md_clear arch_capabilities\n",
            "bugs\t\t: cpu_meltdown spectre_v1 spectre_v2 spec_store_bypass l1tf mds swapgs taa mmio_stale_data retbleed\n",
            "bogomips\t: 4399.99\n",
            "clflush size\t: 64\n",
            "cache_alignment\t: 64\n",
            "address sizes\t: 46 bits physical, 48 bits virtual\n",
            "power management:\n",
            "\n",
            "processor\t: 1\n",
            "vendor_id\t: GenuineIntel\n",
            "cpu family\t: 6\n",
            "model\t\t: 79\n",
            "model name\t: Intel(R) Xeon(R) CPU @ 2.20GHz\n",
            "stepping\t: 0\n",
            "microcode\t: 0xffffffff\n",
            "cpu MHz\t\t: 2199.998\n",
            "cache size\t: 56320 KB\n",
            "physical id\t: 0\n",
            "siblings\t: 2\n",
            "core id\t\t: 0\n",
            "cpu cores\t: 1\n",
            "apicid\t\t: 1\n",
            "initial apicid\t: 1\n",
            "fpu\t\t: yes\n",
            "fpu_exception\t: yes\n",
            "cpuid level\t: 13\n",
            "wp\t\t: yes\n",
            "flags\t\t: fpu vme de pse tsc msr pae mce cx8 apic sep mtrr pge mca cmov pat pse36 clflush mmx fxsr sse sse2 ss ht syscall nx pdpe1gb rdtscp lm constant_tsc rep_good nopl xtopology nonstop_tsc cpuid tsc_known_freq pni pclmulqdq ssse3 fma cx16 pcid sse4_1 sse4_2 x2apic movbe popcnt aes xsave avx f16c rdrand hypervisor lahf_lm abm 3dnowprefetch invpcid_single ssbd ibrs ibpb stibp fsgsbase tsc_adjust bmi1 hle avx2 smep bmi2 erms invpcid rtm rdseed adx smap xsaveopt arat md_clear arch_capabilities\n",
            "bugs\t\t: cpu_meltdown spectre_v1 spectre_v2 spec_store_bypass l1tf mds swapgs taa mmio_stale_data retbleed\n",
            "bogomips\t: 4399.99\n",
            "clflush size\t: 64\n",
            "cache_alignment\t: 64\n",
            "address sizes\t: 46 bits physical, 48 bits virtual\n",
            "power management:\n",
            "\n"
          ]
        }
      ]
    },
    {
      "cell_type": "code",
      "source": [
        "from google.colab import drive\n",
        "drive.mount('/content/drive')"
      ],
      "metadata": {
        "colab": {
          "base_uri": "https://localhost:8080/"
        },
        "id": "9eibI0s6Vn5I",
        "outputId": "311bdb01-1726-4088-9749-a72559cdc2f2"
      },
      "execution_count": null,
      "outputs": [
        {
          "output_type": "stream",
          "name": "stdout",
          "text": [
            "Mounted at /content/drive\n"
          ]
        }
      ]
    },
    {
      "cell_type": "markdown",
      "source": [
        "### rpy2 version specification\n",
        "Required to successfully execute \"%load_ext rpy2.ipython\" as of 2023/1"
      ],
      "metadata": {
        "id": "Iw40fhLS1Fcl"
      }
    },
    {
      "cell_type": "code",
      "source": [
        "!pip install rpy2==3.5.1\n",
        "#!pip install --upgrade ipykernel"
      ],
      "metadata": {
        "id": "CiJF6m5ivmqr",
        "colab": {
          "base_uri": "https://localhost:8080/"
        },
        "outputId": "f73e5ab1-3b31-4a61-c7f2-b47496a27797"
      },
      "execution_count": null,
      "outputs": [
        {
          "output_type": "stream",
          "name": "stdout",
          "text": [
            "Collecting rpy2==3.5.1\n",
            "  Downloading rpy2-3.5.1.tar.gz (201 kB)\n",
            "\u001b[?25l     \u001b[90m━━━━━━━━━━━━━━━━━━━━━━━━━━━━━━━━━━━━━━━━\u001b[0m \u001b[32m0.0/201.7 kB\u001b[0m \u001b[31m?\u001b[0m eta \u001b[36m-:--:--\u001b[0m\r\u001b[2K     \u001b[91m━━━━━━━━\u001b[0m\u001b[90m╺\u001b[0m\u001b[90m━━━━━━━━━━━━━━━━━━━━━━━━━━━━━━━\u001b[0m \u001b[32m41.0/201.7 kB\u001b[0m \u001b[31m1.2 MB/s\u001b[0m eta \u001b[36m0:00:01\u001b[0m\r\u001b[2K     \u001b[90m━━━━━━━━━━━━━━━━━━━━━━━━━━━━━━━━━━━━━━━\u001b[0m \u001b[32m201.7/201.7 kB\u001b[0m \u001b[31m3.2 MB/s\u001b[0m eta \u001b[36m0:00:00\u001b[0m\n",
            "\u001b[?25h  Preparing metadata (setup.py) ... \u001b[?25l\u001b[?25hdone\n",
            "Requirement already satisfied: cffi>=1.10.0 in /usr/local/lib/python3.10/dist-packages (from rpy2==3.5.1) (1.15.1)\n",
            "Requirement already satisfied: jinja2 in /usr/local/lib/python3.10/dist-packages (from rpy2==3.5.1) (3.1.2)\n",
            "Requirement already satisfied: pytz in /usr/local/lib/python3.10/dist-packages (from rpy2==3.5.1) (2022.7.1)\n",
            "Requirement already satisfied: tzlocal in /usr/local/lib/python3.10/dist-packages (from rpy2==3.5.1) (5.0.1)\n",
            "Requirement already satisfied: pycparser in /usr/local/lib/python3.10/dist-packages (from cffi>=1.10.0->rpy2==3.5.1) (2.21)\n",
            "Requirement already satisfied: MarkupSafe>=2.0 in /usr/local/lib/python3.10/dist-packages (from jinja2->rpy2==3.5.1) (2.1.3)\n",
            "Building wheels for collected packages: rpy2\n",
            "  Building wheel for rpy2 (setup.py) ... \u001b[?25l\u001b[?25hdone\n",
            "  Created wheel for rpy2: filename=rpy2-3.5.1-cp310-cp310-linux_x86_64.whl size=314908 sha256=4f25549310fdcc16bb4fb244cf8acfecfb0ac0917b4e917b4849ffe1e8ade2cc\n",
            "  Stored in directory: /root/.cache/pip/wheels/73/a6/ff/4e75dd1ce1cfa2b9a670cbccf6a1e41c553199e9b25f05d953\n",
            "Successfully built rpy2\n",
            "Installing collected packages: rpy2\n",
            "  Attempting uninstall: rpy2\n",
            "    Found existing installation: rpy2 3.4.2\n",
            "    Uninstalling rpy2-3.4.2:\n",
            "      Successfully uninstalled rpy2-3.4.2\n",
            "Successfully installed rpy2-3.5.1\n"
          ]
        }
      ]
    },
    {
      "cell_type": "code",
      "execution_count": null,
      "metadata": {
        "id": "Ea_qICxDrfpe"
      },
      "outputs": [],
      "source": [
        "%load_ext rpy2.ipython"
      ]
    },
    {
      "cell_type": "markdown",
      "source": [
        "### Installing packages"
      ],
      "metadata": {
        "id": "jHieOrW313BL"
      }
    },
    {
      "cell_type": "code",
      "source": [
        "# This Python code is just for not showing rpy2 messages related to R package installation on google colab\n",
        "from rpy2.rinterface_lib.callbacks import logger as rpy2_logger\n",
        "import logging\n",
        "rpy2_logger.setLevel(logging.ERROR)   # will display errors, but not warnings"
      ],
      "metadata": {
        "id": "CC-eqifFSWNZ"
      },
      "execution_count": null,
      "outputs": []
    },
    {
      "cell_type": "code",
      "source": [
        "%%R\n",
        "install.packages(\"Rcpp\")\n",
        "install.packages(\"RcppArmadillo\")\n",
        "install.packages(\"doParallel\")\n",
        "install.packages('tidyverse')\n",
        "install.packages('gsubfn')\n",
        "install.packages('zoo')\n",
        "install.packages('plyr')\n",
        "install.packages('gtools')\n",
        "install.packages('ggsci')\n",
        "install.packages('igraph')\n",
        "install.packages('tidygraph')\n",
        "install.packages('RColorBrewer')\n",
        "install.packages(\"stringdist\")\n",
        "#install.packages('scatterpie') <- Commented out because of an error.\n",
        "library(\"Rcpp\")\n",
        "library(\"RcppArmadillo\")\n",
        "library(\"doParallel\")\n",
        "library('tidyverse')\n",
        "library('gsubfn')\n",
        "library('zoo')\n",
        "library('plyr')\n",
        "library('gtools')\n",
        "library('ggsci')\n",
        "library('igraph')\n",
        "library('tidygraph')\n",
        "library('RColorBrewer')\n",
        "library(\"stringdist\")\n",
        "#library('scatterpie')"
      ],
      "metadata": {
        "id": "WcdvRsePrrWV",
        "colab": {
          "base_uri": "https://localhost:8080/"
        },
        "outputId": "eb844ebb-b372-489b-a1b9-df9b0bb9bb2b"
      },
      "execution_count": null,
      "outputs": [
        {
          "output_type": "stream",
          "name": "stdout",
          "text": [
            "── Attaching core tidyverse packages ──────────────────────── tidyverse 2.0.0 ──\n",
            "✔ dplyr     1.1.2     ✔ readr     2.1.4\n",
            "✔ forcats   1.0.0     ✔ stringr   1.5.0\n",
            "✔ ggplot2   3.4.2     ✔ tibble    3.2.1\n",
            "✔ lubridate 1.9.2     ✔ tidyr     1.3.0\n",
            "✔ purrr     1.0.1     \n",
            "── Conflicts ────────────────────────────────────────── tidyverse_conflicts() ──\n",
            "✖ purrr::accumulate() masks foreach::accumulate()\n",
            "✖ dplyr::filter()     masks stats::filter()\n",
            "✖ dplyr::lag()        masks stats::lag()\n",
            "✖ purrr::when()       masks foreach::when()\n",
            "ℹ Use the conflicted package (<http://conflicted.r-lib.org/>) to force all conflicts to become errors\n"
          ]
        }
      ]
    },
    {
      "cell_type": "markdown",
      "source": [
        "### Download and install rELA package"
      ],
      "metadata": {
        "id": "7HI1nTGp2YSm"
      }
    },
    {
      "cell_type": "code",
      "source": [
        "!rm -r rELA\n",
        "!git clone https://github.com/kecosz/rELA.git"
      ],
      "metadata": {
        "id": "s3fAIZVUCL9g",
        "colab": {
          "base_uri": "https://localhost:8080/"
        },
        "outputId": "0b4388cb-dfff-43bc-f62a-d5b5d095e477"
      },
      "execution_count": null,
      "outputs": [
        {
          "output_type": "stream",
          "name": "stdout",
          "text": [
            "rm: cannot remove 'rELA': No such file or directory\n",
            "Cloning into 'rELA'...\n",
            "remote: Enumerating objects: 141, done.\u001b[K\n",
            "remote: Counting objects: 100% (71/71), done.\u001b[K\n",
            "remote: Compressing objects: 100% (57/57), done.\u001b[K\n",
            "remote: Total 141 (delta 22), reused 48 (delta 14), pack-reused 70\u001b[K\n",
            "Receiving objects: 100% (141/141), 4.25 MiB | 27.87 MiB/s, done.\n",
            "Resolving deltas: 100% (47/47), done.\n"
          ]
        }
      ]
    },
    {
      "cell_type": "code",
      "source": [
        "%%R\n",
        "install.packages(\"rELA/rELA.v0.42.tar.gz\")\n",
        "library(\"rELA\")"
      ],
      "metadata": {
        "id": "PPJtddbotQ7_"
      },
      "execution_count": null,
      "outputs": []
    },
    {
      "cell_type": "markdown",
      "source": [
        "## Energy Landscape Analysis\n",
        "\n",
        "### Download data"
      ],
      "metadata": {
        "id": "W-m-kMSOKY1D"
      }
    },
    {
      "cell_type": "code",
      "source": [
        "%%R\n",
        "# Specify the path for your own data in the code below, if necessary.\n",
        "baseabtable <- read.csv('rELA/data/abundance_table.csv', sep=',', fileEncoding='utf-8') %>%\n",
        "  column_to_rownames(., var = \"X\")\n",
        "basemetadata <- read.csv('rELA/data/sample_metadata.csv', sep=',', fileEncoding='utf-8') %>%\n",
        "  column_to_rownames(., var = \"X\")\n"
      ],
      "metadata": {
        "id": "-JpDaK0Uti9J"
      },
      "execution_count": null,
      "outputs": []
    },
    {
      "cell_type": "code",
      "source": [
        "%%R\n",
        "head(basemetadata, 7)"
      ],
      "metadata": {
        "id": "zMdNNo6mG0t6",
        "colab": {
          "base_uri": "https://localhost:8080/"
        },
        "outputId": "10609ca0-2030-4d83-cf50-9e2168304ae9"
      },
      "execution_count": null,
      "outputs": [
        {
          "output_type": "stream",
          "name": "stdout",
          "text": [
            "         factor.1   factor.2\n",
            "sample.1    -0.92 2.79692115\n",
            "sample.2     0.34 2.14701252\n",
            "sample.3    -0.92 1.60611363\n",
            "sample.4    -0.24 0.58476465\n",
            "sample.5     0.40 1.73161379\n",
            "sample.6    -0.82 2.95971753\n",
            "sample.7     0.36 0.07787331\n"
          ]
        }
      ]
    },
    {
      "cell_type": "code",
      "source": [
        "%%R\n",
        "# To group species with the same presence/absence pattern into one group,\n",
        "#set grouping to 1 and specify a number between 0 and 1 for grouping_th.\n",
        "# If 0, only species with the same presence/absence pattern will be grouped together.\n",
        "list[ocmat, abmat, enmat, samplelabel, specieslabel, factorlabel] <-\n",
        "  Formatting(baseabtable, basemetadata, normalizeq=1, parameters=c(0.01, 0.01, 0.99), grouping=1, grouping_th=0.)"
      ],
      "metadata": {
        "id": "RAuVrLhWriu6",
        "colab": {
          "base_uri": "https://localhost:8080/"
        },
        "outputId": "2cb5569c-e2c1-4bd0-e41c-82f494561084"
      },
      "execution_count": null,
      "outputs": [
        {
          "output_type": "stream",
          "name": "stdout",
          "text": [
            "Processed 256 samples.\n",
            "Relative abundance threshold = 0.01 \n",
            "Occurrence threshold (lower) = 0.01 \n",
            "Occurrence threshold (upper) = 0.99 \n",
            "0  groups were found.\n",
            "Selected  16  out of  16 species.\n"
          ]
        }
      ]
    },
    {
      "cell_type": "markdown",
      "source": [
        "### Parameter fitting"
      ],
      "metadata": {
        "id": "VBnEq4R1Ysjs"
      }
    },
    {
      "cell_type": "code",
      "source": [
        "%%R\n",
        "#runSA: ocmatrix, env (environmental parameters; with>SA / without>fullSA), qth (threshold for stopping computation), rep (number of fitting processes to compute mean parameter value), threads (number of parallel threads)\n",
        "\n",
        "sa <- runSA(ocmat=as.matrix(ocmat), qth=10^-5, rep=128, threads=2)\n"
      ],
      "metadata": {
        "colab": {
          "base_uri": "https://localhost:8080/"
        },
        "id": "4DL-ktCo3lQU",
        "outputId": "4b278c84-c8a2-4e4b-9fc2-2d81943c47c4"
      },
      "execution_count": null,
      "outputs": [
        {
          "output_type": "stream",
          "name": "stdout",
          "text": [
            "Start parameter fitting:\n",
            "SA: elapsed time 55.80 sec\n",
            "\n"
          ]
        }
      ]
    },
    {
      "cell_type": "code",
      "source": [
        "%%R\n",
        "list[he,je,ge,hge] <- sa2params(sa)"
      ],
      "metadata": {
        "id": "KpxMpgriGu30"
      },
      "execution_count": null,
      "outputs": []
    },
    {
      "cell_type": "code",
      "source": [
        "%%R\n",
        "he"
      ],
      "metadata": {
        "colab": {
          "base_uri": "https://localhost:8080/"
        },
        "id": "y2kA9YFPHAVm",
        "outputId": "2693ecd4-2cd0-470c-8e5e-6a1d2832bdb6"
      },
      "execution_count": null,
      "outputs": [
        {
          "output_type": "stream",
          "name": "stdout",
          "text": [
            "  species.12   species.16    species.7    species.5    species.2   species.10 \n",
            "-1.842803333 -1.533606279 -1.426268044 -1.590506619 -1.203953052 -1.420044707 \n",
            "   species.8   species.11   species.15    species.6    species.4   species.14 \n",
            " 0.245828447 -2.634579988 -1.718464554 -0.029419697  1.522390990  0.838001699 \n",
            "   species.3   species.13    species.1    species.9 \n",
            " 0.831272790  0.002525962  2.301338058  2.387534048 \n"
          ]
        }
      ]
    },
    {
      "cell_type": "code",
      "source": [
        "%%R\n",
        "hge"
      ],
      "metadata": {
        "colab": {
          "base_uri": "https://localhost:8080/"
        },
        "id": "8GtQ-I6SIKc3",
        "outputId": "ab4e36e8-3c76-44e9-fc31-045043ab7563"
      },
      "execution_count": null,
      "outputs": [
        {
          "output_type": "stream",
          "name": "stdout",
          "text": [
            "  species.12   species.16    species.7    species.5    species.2   species.10 \n",
            "-1.842803333 -1.533606279 -1.426268044 -1.590506619 -1.203953052 -1.420044707 \n",
            "   species.8   species.11   species.15    species.6    species.4   species.14 \n",
            " 0.245828447 -2.634579988 -1.718464554 -0.029419697  1.522390990  0.838001699 \n",
            "   species.3   species.13    species.1    species.9 \n",
            " 0.831272790  0.002525962  2.301338058  2.387534048 \n"
          ]
        }
      ]
    },
    {
      "cell_type": "markdown",
      "source": [
        "### Analysis and visualization of energy landscape\n",
        "#### ELA function"
      ],
      "metadata": {
        "id": "Aii-f_Q26FFa"
      }
    },
    {
      "cell_type": "code",
      "source": [
        "%%R\n",
        "elanp <- ELA(sa, env=NULL,\n",
        "                SS.itr=20000, FindingTip.itr=10000, # <- the number of steps for finding stable states and tipping points (basically no need to change)\n",
        "                threads=2, reporting=TRUE)"
      ],
      "metadata": {
        "id": "2QpgRDwJu8MC",
        "colab": {
          "base_uri": "https://localhost:8080/"
        },
        "outputId": "6c434ee1-702a-46fb-c459-b04ea15a6d3b"
      },
      "execution_count": null,
      "outputs": [
        {
          "output_type": "stream",
          "name": "stdout",
          "text": [
            "Start ELA:\n",
            "4 stable states were found.\n",
            "Checking 6 tipping points.\n",
            "converting...\n",
            "ELA: elapsed time 2.31 sec\n"
          ]
        }
      ]
    },
    {
      "cell_type": "code",
      "source": [
        "%%R\n",
        "ela <- ELPruning(elanp, th=0.05, threads=2)"
      ],
      "metadata": {
        "colab": {
          "base_uri": "https://localhost:8080/"
        },
        "id": "gaXBIb-gneDq",
        "outputId": "227d38ae-d56e-428b-d7fe-1b31be643a9b"
      },
      "execution_count": null,
      "outputs": [
        {
          "output_type": "stream",
          "name": "stdout",
          "text": [
            "Start pruning:\n",
            "*...\n",
            "ELPruning: elapsed time 2.84 sec\n"
          ]
        }
      ]
    },
    {
      "cell_type": "code",
      "source": [
        "%%R\n",
        "list[stablestates, stablen, tippingpoints, tippingen] <- ela[[1]]"
      ],
      "metadata": {
        "id": "XQh3dfpQ3ia4"
      },
      "execution_count": null,
      "outputs": []
    },
    {
      "cell_type": "markdown",
      "source": [
        "Stable states"
      ],
      "metadata": {
        "id": "gB-_YtGP8CSW"
      }
    },
    {
      "cell_type": "code",
      "source": [
        "%%R\n",
        "stablestates"
      ],
      "metadata": {
        "colab": {
          "base_uri": "https://localhost:8080/"
        },
        "id": "gySY0PMX8Br5",
        "outputId": "0507bd9c-a978-4f98-a967-af7687a0d45e"
      },
      "execution_count": null,
      "outputs": [
        {
          "output_type": "stream",
          "name": "stdout",
          "text": [
            "[1] \"09x\" \"EWB\" \"1uV\"\n"
          ]
        }
      ]
    },
    {
      "cell_type": "markdown",
      "source": [
        "Convert an integer representing a stable state (ssid) to a binary vector"
      ],
      "metadata": {
        "id": "-bgmOVvBw9SV"
      }
    },
    {
      "cell_type": "code",
      "source": [
        "%%R\n",
        "# ssid -> binary vector\n",
        "bin = as.list(lapply(stablestates, function(x){id2bin(x, ncol(ocmat))}))\n",
        "names(bin) <- stablestates\n",
        "bin"
      ],
      "metadata": {
        "colab": {
          "base_uri": "https://localhost:8080/"
        },
        "id": "4ADsgD1j85Tc",
        "outputId": "b218f3da-4fee-45da-aab1-a50de6542e21"
      },
      "execution_count": null,
      "outputs": [
        {
          "output_type": "stream",
          "name": "stdout",
          "text": [
            "$`09x`\n",
            " [1] 0 0 0 0 0 0 1 0 0 1 1 1 1 0 1 1\n",
            "\n",
            "$EWB\n",
            " [1] 1 1 1 0 1 0 0 0 0 0 0 0 1 0 1 1\n",
            "\n",
            "$`1uV`\n",
            " [1] 0 0 0 1 1 1 1 0 0 0 0 1 1 1 1 1\n",
            "\n"
          ]
        }
      ]
    },
    {
      "cell_type": "markdown",
      "source": [
        "Convert a binary vector to a ssid"
      ],
      "metadata": {
        "id": "oAoyXH6VA2uH"
      }
    },
    {
      "cell_type": "code",
      "source": [
        "%%R\n",
        "# binary vector -> ssid\n",
        "as.vector(sapply(bin, bin2id))"
      ],
      "metadata": {
        "colab": {
          "base_uri": "https://localhost:8080/"
        },
        "id": "m5MCP9gN9sEb",
        "outputId": "4a637884-432d-43b5-f92c-1a79d2c1c64d"
      },
      "execution_count": null,
      "outputs": [
        {
          "output_type": "stream",
          "name": "stdout",
          "text": [
            "[1] \"09x\" \"EWB\" \"1uV\"\n"
          ]
        }
      ]
    },
    {
      "cell_type": "markdown",
      "source": [
        "Table of SSID, Energy, Community composition"
      ],
      "metadata": {
        "id": "y24_3yww9-By"
      }
    },
    {
      "cell_type": "code",
      "source": [
        "%%R\n",
        " colnames(ocmat)"
      ],
      "metadata": {
        "colab": {
          "base_uri": "https://localhost:8080/"
        },
        "id": "LBuilOcV-tmj",
        "outputId": "4c16c23c-1d3f-498f-e5a2-9a69625ebad2"
      },
      "execution_count": null,
      "outputs": [
        {
          "output_type": "stream",
          "name": "stdout",
          "text": [
            " [1] \"species.12\" \"species.16\" \"species.7\"  \"species.5\"  \"species.2\" \n",
            " [6] \"species.10\" \"species.8\"  \"species.11\" \"species.15\" \"species.6\" \n",
            "[11] \"species.4\"  \"species.14\" \"species.3\"  \"species.13\" \"species.1\" \n",
            "[16] \"species.9\" \n"
          ]
        }
      ]
    },
    {
      "cell_type": "code",
      "source": [
        "%%R\n",
        "sstable <- as.data.frame(cbind(stablestates, stablen, t(as.data.frame(bin)))) %>%\n",
        "  'colnames<-'(c('ID', 'Energy', colnames(ocmat))) %>%\n",
        "  'rownames<-'(1: length(stablestates))\n",
        "sstable"
      ],
      "metadata": {
        "colab": {
          "base_uri": "https://localhost:8080/"
        },
        "id": "No_0uUNR95y1",
        "outputId": "205a3b55-ee2f-4b54-abf0-3c00edd9ba41"
      },
      "execution_count": null,
      "outputs": [
        {
          "output_type": "stream",
          "name": "stdout",
          "text": [
            "   ID       Energy species.12 species.16 species.7 species.5 species.2\n",
            "1 09x -12.61964387          0          0         0         0         0\n",
            "2 EWB -10.55969753          1          1         1         0         1\n",
            "3 1uV  -9.23853687          0          0         0         1         1\n",
            "  species.10 species.8 species.11 species.15 species.6 species.4 species.14\n",
            "1          0         1          0          0         1         1          1\n",
            "2          0         0          0          0         0         0          0\n",
            "3          1         1          0          0         0         0          1\n",
            "  species.3 species.13 species.1 species.9\n",
            "1         1          0         1         1\n",
            "2         1          0         1         1\n",
            "3         1          1         1         1\n"
          ]
        }
      ]
    },
    {
      "cell_type": "code",
      "source": [],
      "metadata": {
        "id": "A4ph-lec-7aH"
      },
      "execution_count": null,
      "outputs": []
    },
    {
      "cell_type": "markdown",
      "source": [
        "Export the table to Google Drive in CSV format"
      ],
      "metadata": {
        "id": "djeQ6Mt-d8ud"
      }
    },
    {
      "cell_type": "code",
      "source": [
        "%%R\n",
        "write.csv(x = sstable, file=\"drive/MyDrive/colab_export/sstable.csv\") # \"sstable.csv\" is saved in \"colab_export\" folder of your Google Drive."
      ],
      "metadata": {
        "id": "aXNsRBswd4hq"
      },
      "execution_count": null,
      "outputs": []
    },
    {
      "cell_type": "markdown",
      "source": [
        "ID and energy of tipping points"
      ],
      "metadata": {
        "id": "I7dVq7BN-HAt"
      }
    },
    {
      "cell_type": "code",
      "source": [
        "%%R\n",
        "as.data.frame(tippingpoints)"
      ],
      "metadata": {
        "colab": {
          "base_uri": "https://localhost:8080/"
        },
        "id": "0Y9TLwIK-JOx",
        "outputId": "4ba926ef-ad10-4bcd-e6a8-756f41927972"
      },
      "execution_count": null,
      "outputs": [
        {
          "output_type": "stream",
          "name": "stdout",
          "text": [
            "   X1  X2  X3\n",
            "1 Inf 4eB 0uV\n",
            "2 Inf Inf 4eB\n",
            "3 Inf Inf Inf\n"
          ]
        }
      ]
    },
    {
      "cell_type": "code",
      "source": [
        "%%R\n",
        "as.data.frame(tippingen)"
      ],
      "metadata": {
        "colab": {
          "base_uri": "https://localhost:8080/"
        },
        "id": "gfOlQvio-QM6",
        "outputId": "51ae1cbd-1944-4530-da3c-2f30c9fbe48e"
      },
      "execution_count": null,
      "outputs": [
        {
          "output_type": "stream",
          "name": "stdout",
          "text": [
            "   X1        X2        X3\n",
            "1 Inf -7.251682 -8.760081\n",
            "2 Inf       Inf -7.251682\n",
            "3 Inf       Inf       Inf\n"
          ]
        }
      ]
    },
    {
      "cell_type": "markdown",
      "source": [
        "Energy of any community composition\n"
      ],
      "metadata": {
        "id": "Lp_iUrvCDZ3p"
      }
    },
    {
      "cell_type": "code",
      "source": [
        "%%R\n",
        "cEnergy(ocmat[1,], he, je)"
      ],
      "metadata": {
        "colab": {
          "base_uri": "https://localhost:8080/"
        },
        "id": "54RjLTQ7nc90",
        "outputId": "e1f7b53e-e29f-4d0c-a070-1691b26fb300"
      },
      "execution_count": null,
      "outputs": [
        {
          "output_type": "stream",
          "name": "stdout",
          "text": [
            "[1] -4.21517\n"
          ]
        }
      ]
    },
    {
      "cell_type": "markdown",
      "source": [
        "Find the stable state for a community composition"
      ],
      "metadata": {
        "id": "p2IPxLTxxo2h"
      }
    },
    {
      "cell_type": "code",
      "source": [
        "%%R\n",
        "Bi(ocmat[1,], he, je)"
      ],
      "metadata": {
        "colab": {
          "base_uri": "https://localhost:8080/"
        },
        "id": "iISlCtfG-Y3c",
        "outputId": "df1f226b-3355-43d3-8503-4167432a6cce"
      },
      "execution_count": null,
      "outputs": [
        {
          "output_type": "stream",
          "name": "stdout",
          "text": [
            "[[1]]\n",
            "[1] \"01t\"\n",
            "\n",
            "[[2]]\n",
            "[1] -11.67503\n",
            "\n"
          ]
        }
      ]
    },
    {
      "cell_type": "markdown",
      "source": [
        "### Principal component analysis  \n",
        "Observed community compositions plotted on a PC1,2 plane and color-coded by their stable states"
      ],
      "metadata": {
        "id": "dQFmBCUZB-xU"
      }
    },
    {
      "cell_type": "code",
      "source": [
        "%%R\n",
        "PCplot(ocmat, sa, ssrep=ela[[2]])\n",
        "PCplot(ocmat, sa, ssrep=ela[[2]], pruned=FALSE)"
      ],
      "metadata": {
        "colab": {
          "base_uri": "https://localhost:8080/",
          "height": 995
        },
        "id": "adI4A3JJLa7G",
        "outputId": "0162b74f-dcb4-479a-bc80-e5ca90d23840"
      },
      "execution_count": null,
      "outputs": [
        {
          "output_type": "stream",
          "name": "stdout",
          "text": [
            "NULL\n"
          ]
        },
        {
          "output_type": "display_data",
          "data": {
            "image/png": "[encoded data removed]"
          },
          "metadata": {}
        },
        {
          "output_type": "display_data",
          "data": {
            "image/png": "[encoded data removed]"
          },
          "metadata": {}
        }
      ]
    },
    {
      "cell_type": "markdown",
      "source": [
        "Disconnectivity graph\n"
      ],
      "metadata": {
        "id": "kzfCYXux5uHg"
      }
    },
    {
      "cell_type": "code",
      "source": [
        "%%R\n",
        "showDG(ela[[1]], ocmat, \"test\")"
      ],
      "metadata": {
        "colab": {
          "base_uri": "https://localhost:8080/",
          "height": 515
        },
        "id": "Wazs4oEAIK61",
        "outputId": "1944ccc4-ccd6-4c5e-bd40-18c60c2c7097"
      },
      "execution_count": null,
      "outputs": [
        {
          "output_type": "stream",
          "name": "stdout",
          "text": [
            "NULL\n"
          ]
        },
        {
          "output_type": "display_data",
          "data": {
            "image/png": "[encoded data removed]"
          },
          "metadata": {}
        }
      ]
    },
    {
      "cell_type": "markdown",
      "source": [
        "### Visualization of species' interaction"
      ],
      "metadata": {
        "id": "JhRptm-uVSzg"
      }
    },
    {
      "cell_type": "code",
      "source": [
        "%%R\n",
        "showIntrGraph(ela[[1]], sa, th=0.01, # <- Threshold for links to be displayed\n",
        "              annot_adj=c(0.75, 2.00))"
      ],
      "metadata": {
        "colab": {
          "base_uri": "https://localhost:8080/",
          "height": 515
        },
        "id": "viGj4g6sX0Ca",
        "outputId": "fa72f79d-c11e-48ef-a44c-ec142a8a5f0c"
      },
      "execution_count": null,
      "outputs": [
        {
          "output_type": "stream",
          "name": "stdout",
          "text": [
            "NULL\n"
          ]
        },
        {
          "output_type": "display_data",
          "data": {
            "image/png": "[encoded data removed]"
          },
          "metadata": {}
        }
      ]
    },
    {
      "cell_type": "markdown",
      "source": [
        "### Energy landscape analysis with environmental gradients"
      ],
      "metadata": {
        "id": "WOi0wfI2fxI1"
      }
    },
    {
      "cell_type": "code",
      "source": [
        "%%R\n",
        "baseabtable <- read.csv('rELA/data/abundance_table.csv', sep=',', fileEncoding='utf-8') %>%\n",
        "  column_to_rownames(., var = \"X\")\n",
        "basemetadata <- read.csv('rELA/data/sample_metadata.csv', sep=',', fileEncoding='utf-8') %>%\n",
        "  column_to_rownames(., var = \"X\")"
      ],
      "metadata": {
        "id": "fFRHtHvwVNg9"
      },
      "execution_count": null,
      "outputs": []
    },
    {
      "cell_type": "code",
      "source": [
        "%%R\n",
        "list[ocmat, abmat, enmat, samplelabel, specieslabel, factorlabel] <-\n",
        "  Formatting(baseabtable, basemetadata, 1, c(0.01, 0.01, 0.99), 1, 0)"
      ],
      "metadata": {
        "colab": {
          "base_uri": "https://localhost:8080/"
        },
        "id": "g_xpLhPUccb-",
        "outputId": "34de1e3a-5984-4b4c-806e-61691c017b77"
      },
      "execution_count": null,
      "outputs": [
        {
          "output_type": "stream",
          "name": "stdout",
          "text": [
            "Processed 256 samples.\n",
            "Relative abundance threshold = 0.01 \n",
            "Occurrence threshold (lower) = 0.01 \n",
            "Occurrence threshold (upper) = 0.99 \n",
            "0  groups were found.\n",
            "Selected  16  out of  16 species.\n"
          ]
        }
      ]
    },
    {
      "cell_type": "code",
      "source": [
        "# Parameter fitting including environmental parameters\n",
        "%%R\n",
        "sa <- runSA(ocmat=as.matrix(ocmat), enmat=as.matrix(enmat), qth=10^-5, rep=256, threads=2)"
      ],
      "metadata": {
        "colab": {
          "base_uri": "https://localhost:8080/"
        },
        "id": "MBlCXWjMOHVq",
        "outputId": "fcd9b78e-4536-478a-d43e-15d5987cff37"
      },
      "execution_count": null,
      "outputs": [
        {
          "output_type": "stream",
          "name": "stdout",
          "text": [
            "Start parameter fitting\n",
            "SA: elapsed time 115.59 sec\n",
            "\n"
          ]
        }
      ]
    },
    {
      "cell_type": "code",
      "source": [
        "%%R\n",
        "gela <- GradELA(sa=sa, eid=\"factor.1\", # Specify the label or position of an environmental factor\n",
        "  enmat=enmat, env=NULL, range=NULL, steps=32, th=0.05, threads=8) #[[1]]: return value of ELA function for each step, [[2]]: value of environmental factor for each step, [[3]]: specified environmental factor"
      ],
      "metadata": {
        "colab": {
          "base_uri": "https://localhost:8080/"
        },
        "id": "nD76eeaz3zt3",
        "outputId": "2be961a6-63cb-4009-ed06-bb2cc3342d08"
      },
      "execution_count": null,
      "outputs": [
        {
          "output_type": "stream",
          "name": "stdout",
          "text": [
            "env not specified, the mean of enmat is used\n",
            "processing(32) |================================|\n",
            "Elapsed time 35.83 sec\n"
          ]
        }
      ]
    },
    {
      "cell_type": "code",
      "source": [
        "# Disconnectivity graph\n",
        "%%R\n",
        "showDG(gela[[1]][[1]][[1]], ocmat)"
      ],
      "metadata": {
        "id": "NSPUA01XXz3f",
        "colab": {
          "base_uri": "https://localhost:8080/",
          "height": 515
        },
        "outputId": "75e3c3d9-db68-4c48-bda3-414857d9f709"
      },
      "execution_count": null,
      "outputs": [
        {
          "output_type": "stream",
          "name": "stdout",
          "text": [
            "NULL\n"
          ]
        },
        {
          "output_type": "display_data",
          "data": {
            "image/png": "[encoded data removed]"
          },
          "metadata": {}
        }
      ]
    },
    {
      "cell_type": "code",
      "source": [
        "# Stable state diagram\n",
        "%%R\n",
        "showSSD(gela)"
      ],
      "metadata": {
        "colab": {
          "base_uri": "https://localhost:8080/",
          "height": 497
        },
        "id": "J_Z06lPnrcpf",
        "outputId": "5e62665b-6a8a-4998-982f-447b3686e5aa"
      },
      "execution_count": null,
      "outputs": [
        {
          "output_type": "display_data",
          "data": {
            "image/png": "[encoded data removed]"
          },
          "metadata": {}
        }
      ]
    },
    {
      "cell_type": "markdown",
      "source": [
        "## Stability"
      ],
      "metadata": {
        "id": "kqBpp-GOxaJ1"
      }
    },
    {
      "cell_type": "code",
      "source": [
        "%%R\n",
        "pt <- proc.time()[3]\n",
        "stb <- Stability(sa, ocmat, enmat=enmat, threads=2)\n",
        "cat(proc.time()[3] - pt,\"\\n\")\n",
        "head(stb, 5)"
      ],
      "metadata": {
        "colab": {
          "base_uri": "https://localhost:8080/"
        },
        "id": "sJjJkVF0xvl_",
        "outputId": "83300f8d-66e4-4d96-efd9-dc90651abd51"
      },
      "execution_count": null,
      "outputs": [
        {
          "output_type": "stream",
          "name": "stdout",
          "text": [
            "Start Stability:\n",
            "Stability: elapsed time 30.50 sec\n",
            "\n",
            "30.504 \n",
            "           energy.gap ss.entropy  e.realize  e.stable\n",
            "sample.1    7.5759388  1.0504044  -6.417555 -13.99349\n",
            "sample.10   1.8799583  0.0000000 -11.898571 -13.77853\n",
            "sample.100  1.3784024  1.1849476 -12.598403 -13.97681\n",
            "sample.101  0.4399516  0.9322692 -11.538622 -11.97857\n",
            "sample.102  0.0000000  1.1362603 -12.957692 -12.95769\n"
          ]
        }
      ]
    },
    {
      "cell_type": "code",
      "source": [
        "%%R\n",
        "pt <- proc.time()[3]\n",
        "gstb <- gStability(sa, ocmat, enmat=enmat, threads=8)\n",
        "cat(proc.time()[3] - pt,\"\\n\")\n",
        "head(gstb, 5)"
      ],
      "metadata": {
        "colab": {
          "base_uri": "https://localhost:8080/"
        },
        "id": "6_xeM3c8UXsD",
        "outputId": "23aacef6-3eeb-47d6-b2ce-1f42a0d1e9bb"
      },
      "execution_count": null,
      "outputs": [
        {
          "output_type": "stream",
          "name": "stdout",
          "text": [
            "Start gStability:\n",
            "gStability: elapsed time 151.13 sec\n",
            "\n",
            "151.145 \n",
            "              energy.gap energy.barrier ss.entropy  e.realize  e.stable\n",
            "sample.1    7.575939e+00       3.273907 0.93188359  -6.417555 -13.99349\n",
            "sample.10   1.879958e+00       6.429616 0.02946405 -11.898571 -13.77853\n",
            "sample.100  1.378402e+00       1.944265 1.42850409 -12.598403 -13.97681\n",
            "sample.101  4.399516e-01       6.404128 0.36218072 -11.538622 -11.97857\n",
            "sample.102 -1.598577e-09       2.510295 0.28639696 -12.957692 -12.95769\n",
            "            e.tipping\n",
            "sample.1   -10.719587\n",
            "sample.10   -7.348914\n",
            "sample.100 -12.032541\n",
            "sample.101  -5.574446\n",
            "sample.102 -10.447396\n"
          ]
        }
      ]
    }
  ]
}