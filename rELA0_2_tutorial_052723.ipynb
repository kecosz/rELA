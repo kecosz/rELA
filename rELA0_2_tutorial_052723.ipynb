{
  "nbformat": 4,
  "nbformat_minor": 0,
  "metadata": {
    "colab": {
      "provenance": [],
      "authorship_tag": "ABX9TyMAV5qVuo4EgHwnwS6+7ThT",
      "include_colab_link": true
    },
    "kernelspec": {
      "name": "python3",
      "display_name": "Python 3"
    },
    "language_info": {
      "name": "python"
    }
  },
  "cells": [
    {
      "cell_type": "markdown",
      "metadata": {
        "id": "view-in-github",
        "colab_type": "text"
      },
      "source": [
        "<a href=\"https://colab.research.google.com/github/kecosz/rELA/blob/main/rELA0_2_tutorial_052723.ipynb\" target=\"_parent\"><img src=\"https://colab.research.google.com/assets/colab-badge.svg\" alt=\"Open In Colab\"/></a>"
      ]
    },
    {
      "cell_type": "markdown",
      "source": [
        "## Preparation\n",
        "### Mounting Google Drive"
      ],
      "metadata": {
        "id": "Gu4g34_2043W"
      }
    },
    {
      "cell_type": "code",
      "source": [
        "from google.colab import drive\n",
        "drive.mount('/content/drive')"
      ],
      "metadata": {
        "colab": {
          "base_uri": "https://localhost:8080/"
        },
        "id": "mmKz0Vik4gAe",
        "outputId": "662abd6a-5eb9-4300-d180-ceddab3ee629"
      },
      "execution_count": null,
      "outputs": [
        {
          "output_type": "stream",
          "name": "stdout",
          "text": [
            "Mounted at /content/drive\n"
          ]
        }
      ]
    },
    {
      "cell_type": "markdown",
      "source": [
        "### rpy2 version specification\n",
        "Required to successfully execute \"%load_ext rpy2.ipython\" as of 2023/1"
      ],
      "metadata": {
        "id": "Iw40fhLS1Fcl"
      }
    },
    {
      "cell_type": "code",
      "source": [
        "!pip install rpy2==3.5.1\n",
        "#!pip install --upgrade ipykernel"
      ],
      "metadata": {
        "id": "CiJF6m5ivmqr",
        "colab": {
          "base_uri": "https://localhost:8080/"
        },
        "outputId": "809aaea9-b0d2-4e5b-8064-e13f2b800a3f"
      },
      "execution_count": null,
      "outputs": [
        {
          "output_type": "stream",
          "name": "stdout",
          "text": [
            "Looking in indexes: https://pypi.org/simple, https://us-python.pkg.dev/colab-wheels/public/simple/\n",
            "Collecting rpy2==3.5.1\n",
            "  Downloading rpy2-3.5.1.tar.gz (201 kB)\n",
            "\u001b[2K     \u001b[90m━━━━━━━━━━━━━━━━━━━━━━━━━━━━━━━━━━━━━━━\u001b[0m \u001b[32m201.7/201.7 kB\u001b[0m \u001b[31m6.1 MB/s\u001b[0m eta \u001b[36m0:00:00\u001b[0m\n",
            "\u001b[?25h  Preparing metadata (setup.py) ... \u001b[?25l\u001b[?25hdone\n",
            "Requirement already satisfied: cffi>=1.10.0 in /usr/local/lib/python3.10/dist-packages (from rpy2==3.5.1) (1.15.1)\n",
            "Requirement already satisfied: jinja2 in /usr/local/lib/python3.10/dist-packages (from rpy2==3.5.1) (3.1.2)\n",
            "Requirement already satisfied: pytz in /usr/local/lib/python3.10/dist-packages (from rpy2==3.5.1) (2022.7.1)\n",
            "Requirement already satisfied: tzlocal in /usr/local/lib/python3.10/dist-packages (from rpy2==3.5.1) (5.0.1)\n",
            "Requirement already satisfied: pycparser in /usr/local/lib/python3.10/dist-packages (from cffi>=1.10.0->rpy2==3.5.1) (2.21)\n",
            "Requirement already satisfied: MarkupSafe>=2.0 in /usr/local/lib/python3.10/dist-packages (from jinja2->rpy2==3.5.1) (2.1.3)\n",
            "Building wheels for collected packages: rpy2\n",
            "  Building wheel for rpy2 (setup.py) ... \u001b[?25l\u001b[?25hdone\n",
            "  Created wheel for rpy2: filename=rpy2-3.5.1-cp310-cp310-linux_x86_64.whl size=318098 sha256=e614e8852c86bfc34e3863e70215294217049d06e98445e8e79d8123fae791fb\n",
            "  Stored in directory: /root/.cache/pip/wheels/73/a6/ff/4e75dd1ce1cfa2b9a670cbccf6a1e41c553199e9b25f05d953\n",
            "Successfully built rpy2\n",
            "Installing collected packages: rpy2\n",
            "  Attempting uninstall: rpy2\n",
            "    Found existing installation: rpy2 3.5.5\n",
            "    Uninstalling rpy2-3.5.5:\n",
            "      Successfully uninstalled rpy2-3.5.5\n",
            "Successfully installed rpy2-3.5.1\n"
          ]
        }
      ]
    },
    {
      "cell_type": "code",
      "execution_count": null,
      "metadata": {
        "id": "Ea_qICxDrfpe"
      },
      "outputs": [],
      "source": [
        "%load_ext rpy2.ipython"
      ]
    },
    {
      "cell_type": "markdown",
      "source": [
        "### Installing packages"
      ],
      "metadata": {
        "id": "jHieOrW313BL"
      }
    },
    {
      "cell_type": "code",
      "source": [
        "# This Python code is just for not showing rpy2 messages related to R package installation on google colab\n",
        "from rpy2.rinterface_lib.callbacks import logger as rpy2_logger\n",
        "import logging\n",
        "rpy2_logger.setLevel(logging.ERROR)   # will display errors, but not warnings"
      ],
      "metadata": {
        "id": "CC-eqifFSWNZ"
      },
      "execution_count": null,
      "outputs": []
    },
    {
      "cell_type": "code",
      "source": [
        "%%R\n",
        "install.packages(\"Rcpp\")\n",
        "install.packages(\"RcppArmadillo\")\n",
        "install.packages(\"doParallel\")\n",
        "install.packages('tidyverse')\n",
        "install.packages('gsubfn')\n",
        "install.packages('zoo')\n",
        "install.packages('snow')\n",
        "install.packages('plyr')\n",
        "install.packages('gtools')\n",
        "install.packages('ggsci')\n",
        "install.packages('igraph')\n",
        "install.packages('tidygraph')\n",
        "install.packages('RColorBrewer')\n",
        "#install.packages('scatterpie') <- Commented out because of an error.\n",
        "library(\"Rcpp\")\n",
        "library(\"RcppArmadillo\")\n",
        "library(\"doParallel\")\n",
        "library('tidyverse')\n",
        "library('gsubfn')\n",
        "library('zoo')\n",
        "library('snow')\n",
        "library('plyr')\n",
        "library('gtools')\n",
        "library('ggsci')\n",
        "library('igraph')\n",
        "library('tidygraph')\n",
        "library('RColorBrewer')\n",
        "#library('scatterpie')"
      ],
      "metadata": {
        "id": "WcdvRsePrrWV"
      },
      "execution_count": null,
      "outputs": []
    },
    {
      "cell_type": "markdown",
      "source": [
        "### Download and install rELA package"
      ],
      "metadata": {
        "id": "7HI1nTGp2YSm"
      }
    },
    {
      "cell_type": "code",
      "source": [
        "!git clone https://github.com/kecosz/rELA.git"
      ],
      "metadata": {
        "colab": {
          "base_uri": "https://localhost:8080/"
        },
        "id": "s3fAIZVUCL9g",
        "outputId": "9cb862f3-494f-47c9-e032-351d7ea0dacd"
      },
      "execution_count": null,
      "outputs": [
        {
          "output_type": "stream",
          "name": "stdout",
          "text": [
            "Cloning into 'rELA'...\n",
            "remote: Enumerating objects: 37, done.\u001b[K\n",
            "remote: Counting objects: 100% (37/37), done.\u001b[K\n",
            "remote: Compressing objects: 100% (37/37), done.\u001b[K\n",
            "remote: Total 37 (delta 15), reused 0 (delta 0), pack-reused 0\u001b[K\n",
            "Unpacking objects: 100% (37/37), 3.59 MiB | 6.23 MiB/s, done.\n"
          ]
        }
      ]
    },
    {
      "cell_type": "code",
      "source": [
        "%%R\n",
        "install.packages(\"rELA/rELA.v0.21.tar.gz\")\n",
        "library(\"rELA\")"
      ],
      "metadata": {
        "id": "PPJtddbotQ7_"
      },
      "execution_count": null,
      "outputs": []
    },
    {
      "cell_type": "markdown",
      "source": [
        "## Energy Landscape Analysis\n",
        "\n",
        "### Download data"
      ],
      "metadata": {
        "id": "W-m-kMSOKY1D"
      }
    },
    {
      "cell_type": "code",
      "source": [
        "%%R\n",
        "# Specify the path for your own data in the code below, if necessary.\n",
        "baseabtable <- read.csv('drive/MyDrive/data/abundance_table.csv', sep=',', fileEncoding='utf-8') %>%\n",
        "  column_to_rownames(., var = \"X\")\n",
        "basemetadata <- read.csv('drive/MyDrive/data/sample_metadata.csv', sep=',', fileEncoding='utf-8') %>%\n",
        "  column_to_rownames(., var = \"X\")"
      ],
      "metadata": {
        "id": "-JpDaK0Uti9J"
      },
      "execution_count": null,
      "outputs": []
    },
    {
      "cell_type": "code",
      "source": [
        "%%R\n",
        "head(baseabtable, 7)"
      ],
      "metadata": {
        "colab": {
          "base_uri": "https://localhost:8080/"
        },
        "id": "kWC7v-rqshB-",
        "outputId": "f06bf621-e7f7-422d-9360-71e60888cdeb"
      },
      "execution_count": null,
      "outputs": [
        {
          "output_type": "stream",
          "name": "stdout",
          "text": [
            "         species.1 species.2 species.3 species.4 species.5 species.6 species.7\n",
            "sample.1      2384         0      1313      8218         0      3529         0\n",
            "sample.2     10343         0      2201      6814         0      2887         0\n",
            "sample.3      4473         0       614      2046      4455      3429         0\n",
            "sample.4      8786         0      5517       328         0        15         0\n",
            "sample.5     10640         0      2321      6652         0      2642         0\n",
            "sample.6         0         0       165      7794      1697      3816         0\n",
            "sample.7      8801         0      2204      4853         0      5526         0\n",
            "         species.8 species.9 species.10 species.11 species.12 species.13\n",
            "sample.1         0      3938        120       4156          0       3223\n",
            "sample.2      6944      4907          0          0          0          0\n",
            "sample.3      1503      8319          0          0          0      10433\n",
            "sample.4      5372     10032       1722          0          0       5001\n",
            "sample.5      7305      4858          0          0          0          0\n",
            "sample.6         0      7230       2130       2267          0       6102\n",
            "sample.7      6990         0          0          0          0       1781\n",
            "         species.14 species.15 species.16\n",
            "sample.1       7150       3122          0\n",
            "sample.2       7298          0          0\n",
            "sample.3       5080          0          0\n",
            "sample.4       6117          0          0\n",
            "sample.5       7020          0          0\n",
            "sample.6       9944          0          0\n",
            "sample.7       7367          0         95\n"
          ]
        }
      ]
    },
    {
      "cell_type": "code",
      "source": [
        "%%R\n",
        "head(basemetadata, 7)"
      ],
      "metadata": {
        "colab": {
          "base_uri": "https://localhost:8080/"
        },
        "id": "zMdNNo6mG0t6",
        "outputId": "a07e0407-3449-46bf-ccc9-f84321464b0c"
      },
      "execution_count": null,
      "outputs": [
        {
          "output_type": "stream",
          "name": "stdout",
          "text": [
            "         factor.1   factor.2\n",
            "sample.1    -0.92 2.79692115\n",
            "sample.2     0.34 2.14701252\n",
            "sample.3    -0.92 1.60611363\n",
            "sample.4    -0.24 0.58476465\n",
            "sample.5     0.40 1.73161379\n",
            "sample.6    -0.82 2.95971753\n",
            "sample.7     0.36 0.07787331\n"
          ]
        }
      ]
    },
    {
      "cell_type": "code",
      "source": [
        "%%R\n",
        "list[ocvecs, abvecs, envecs, samplelabel, specieslabel, factorlabel] <-\n",
        "  Formatting(baseabtable, basemetadata, 1, c(0.05, 0.05, 0.95))\n"
      ],
      "metadata": {
        "colab": {
          "base_uri": "https://localhost:8080/"
        },
        "id": "RAuVrLhWriu6",
        "outputId": "fd74dfea-db6f-479b-8724-79d881d1f757"
      },
      "execution_count": null,
      "outputs": [
        {
          "output_type": "stream",
          "name": "stdout",
          "text": [
            "Processed 256 samples.\n",
            "Relative abundance threshold = 0.05 \n",
            "Occurrence threshold (lower) = 0.05 \n",
            "Occurrence threshold (upper) = 0.95 \n",
            "Selected  16  out of  256 species.\n"
          ]
        }
      ]
    },
    {
      "cell_type": "markdown",
      "source": [
        "`Formatting`  The **first** and **second arguments** are the frequency table and metadata loaded above. The **third argument** is whether or not to normalize the abundances within the sample; 0 for without normalization, 1 for normalization. The **fourth argument** is a vector of threshold values,  and it contains a threshold for converting abundance to presence/absence status, a lower and upper bound of the mean occurence of species in all samples (any species with a mean occurence less than or greater than these value are removed).  \n",
        "  \n",
        "Formatting returns six objects. Here, we assigned the following variable names to them:\n",
        "1.\tocvecs: presence(1)/absence(0) status of each species in each sample\n",
        "2.\tabvecs: abundance of each species before converting to the presence/absence status\n",
        "3.\tenvecs: value of environmental factors for each sample\n",
        "4.\tsamplelabel: list of sample names\n",
        "5.\tspecieslabel: list of species names\n",
        "6.\tfactorlabel: list of environmental factors"
      ],
      "metadata": {
        "id": "k50cqd77s_dG"
      }
    },
    {
      "cell_type": "code",
      "source": [
        "%%R\n",
        "head(ocvecs, 7)"
      ],
      "metadata": {
        "colab": {
          "base_uri": "https://localhost:8080/"
        },
        "id": "CwmLBtnBJC06",
        "outputId": "3ef01dcb-889d-4b6a-f71f-4fc400745bec"
      },
      "execution_count": null,
      "outputs": [
        {
          "output_type": "stream",
          "name": "stdout",
          "text": [
            "           species.1 species.2 species.3 species.4 species.5 species.6\n",
            "sample.1           1         0         1         1         0         1\n",
            "sample.10          1         0         1         1         0         0\n",
            "sample.100         1         1         1         0         1         1\n",
            "sample.101         1         0         0         1         0         1\n",
            "sample.102         1         0         0         1         0         1\n",
            "sample.103         1         0         0         1         1         1\n",
            "sample.104         1         0         1         1         0         1\n",
            "           species.7 species.8 species.9 species.10 species.11 species.12\n",
            "sample.1           0         0         1          1          1          0\n",
            "sample.10          0         1         1          0          0          0\n",
            "sample.100         0         1         1          1          0          0\n",
            "sample.101         0         1         1          0          0          0\n",
            "sample.102         0         0         1          1          0          0\n",
            "sample.103         0         0         1          1          0          0\n",
            "sample.104         0         1         1          0          0          0\n",
            "           species.13 species.14 species.15 species.16\n",
            "sample.1            1          1          1          0\n",
            "sample.10           1          1          0          0\n",
            "sample.100          1          0          0          0\n",
            "sample.101          1          1          0          0\n",
            "sample.102          1          1          0          0\n",
            "sample.103          1          1          0          0\n",
            "sample.104          1          1          0          0\n"
          ]
        }
      ]
    },
    {
      "cell_type": "markdown",
      "source": [
        "### Parameter fitting"
      ],
      "metadata": {
        "id": "VBnEq4R1Ysjs"
      }
    },
    {
      "cell_type": "code",
      "source": [
        "%%R\n",
        "#runSA: ocmatrix, env (environmental parameters; with>SA / without>fullSA), qth (threshold for stopping computation), rep (number of fitting processes to compute mean parameter value), threads (number of parallel threads)\n",
        "\n",
        "sa <- runSA(data=as.matrix(ocvecs), qth=10^-5, rep=256, threads=1)\n"
      ],
      "metadata": {
        "colab": {
          "base_uri": "https://localhost:8080/"
        },
        "id": "4DL-ktCo3lQU",
        "outputId": "a3f158be-0c30-4c70-df1f-c1e6d9980b7e"
      },
      "execution_count": null,
      "outputs": [
        {
          "output_type": "stream",
          "name": "stdout",
          "text": [
            "Start parameter fitting\n",
            "\n",
            "Done ; elapsed time 36.82 sec\n",
            "\n"
          ]
        }
      ]
    },
    {
      "cell_type": "markdown",
      "source": [
        "`runSA` The **first argument (data)** is the presence/absence data; the **second argument (env)** specifies the environmental factor for each sample, which is skipped for analyses that do not consider environmental conditions; the **third argument (qth)** is the threshold for determining parameter convergence; the **fourth argument (par)** is the number of parallel processes, where the average of the specified number of processes is used; and the **fifth argument (threads)** is the number of threads used in the calculation. It is recommended to try `threads=1` first and see if increasing the number of threads speeds up the execution."
      ],
      "metadata": {
        "id": "_5nv5ZY3DpLY"
      }
    },
    {
      "cell_type": "code",
      "source": [
        "%%R\n",
        "list[he,je,ge,hge] <- sa2params(sa)"
      ],
      "metadata": {
        "id": "KpxMpgriGu30"
      },
      "execution_count": null,
      "outputs": []
    },
    {
      "cell_type": "code",
      "source": [
        "%%R\n",
        "he"
      ],
      "metadata": {
        "colab": {
          "base_uri": "https://localhost:8080/"
        },
        "id": "y2kA9YFPHAVm",
        "outputId": "3f078a54-fedb-4e78-84e3-0cf0464d8611"
      },
      "execution_count": null,
      "outputs": [
        {
          "output_type": "stream",
          "name": "stdout",
          "text": [
            " species.1  species.2  species.3  species.4  species.5  species.6  species.7 \n",
            " 2.4976518 -1.2003595  1.0745972  1.6756127 -1.2213547  0.6886837 -1.2354324 \n",
            " species.8  species.9 species.10 species.11 species.12 species.13 species.14 \n",
            " 0.2082262  2.7683666 -0.9577528 -2.6340950 -1.8622155  0.1078539  1.0088123 \n",
            "species.15 species.16 \n",
            "-1.3307458 -1.1559877 \n"
          ]
        }
      ]
    },
    {
      "cell_type": "code",
      "source": [
        "%%R\n",
        "hge"
      ],
      "metadata": {
        "colab": {
          "base_uri": "https://localhost:8080/"
        },
        "id": "8GtQ-I6SIKc3",
        "outputId": "7d9c8ade-6e5e-4da3-de0d-4fca323cf6e8"
      },
      "execution_count": null,
      "outputs": [
        {
          "output_type": "stream",
          "name": "stdout",
          "text": [
            " species.1  species.2  species.3  species.4  species.5  species.6  species.7 \n",
            " 2.4976518 -1.2003595  1.0745972  1.6756127 -1.2213547  0.6886837 -1.2354324 \n",
            " species.8  species.9 species.10 species.11 species.12 species.13 species.14 \n",
            " 0.2082262  2.7683666 -0.9577528 -2.6340950 -1.8622155  0.1078539  1.0088123 \n",
            "species.15 species.16 \n",
            "-1.3307458 -1.1559877 \n"
          ]
        }
      ]
    },
    {
      "cell_type": "markdown",
      "source": [
        "### Analysis and visualization of energy landscape\n",
        "#### ELA function"
      ],
      "metadata": {
        "id": "Aii-f_Q26FFa"
      }
    },
    {
      "cell_type": "code",
      "source": [
        "%%R\n",
        "elanp <- ELA(sa, env=NULL,\n",
        "                SS.itr=20000, FindingTip.itr=10000, # <- the number of steps for finding stable states and tipping points (basically no need to change)\n",
        "                threads=1, reporting=TRUE)\n",
        "ela <- ELPruning(elanp, th=0.08)"
      ],
      "metadata": {
        "id": "2QpgRDwJu8MC",
        "colab": {
          "base_uri": "https://localhost:8080/"
        },
        "outputId": "6ad7312e-a0fb-4b81-b1e3-2a0b9f3f1177"
      },
      "execution_count": null,
      "outputs": [
        {
          "output_type": "stream",
          "name": "stdout",
          "text": [
            "Elapsed time 1.02 sec\n"
          ]
        }
      ]
    },
    {
      "cell_type": "markdown",
      "source": [
        "`ELA` The **first argument** is the return value of `runSA` as it is; the **second argument** is the environment factor of the sample, which need not be given if it is not given in runSA; the **third** and **fourth arguments** are the number of iterations to find stable states and tipping points, respectively, and should basically remain unchanged. The **fifth argument** is the number of threads used in the calculation and the **sixth argument** should be TRUE to output the calculation time.  \n",
        "  \n",
        "`ELPruning` is a function to prune an energy landscape, which prunes basins shallower than 100*`th`% of the deepest basin."
      ],
      "metadata": {
        "id": "WijgXKrRH7x7"
      }
    },
    {
      "cell_type": "markdown",
      "source": [
        "From the return value of `ELA`, the information on the stable states and tipping points can be retrieved as follows:"
      ],
      "metadata": {
        "id": "0RAU7vPJLIZ7"
      }
    },
    {
      "cell_type": "code",
      "source": [
        "%%R\n",
        "list[stablestates, stablen, tippingpoints, tippingen] <- ela[[1]]"
      ],
      "metadata": {
        "id": "XQh3dfpQ3ia4"
      },
      "execution_count": null,
      "outputs": []
    },
    {
      "cell_type": "markdown",
      "source": [
        "stable states"
      ],
      "metadata": {
        "id": "gB-_YtGP8CSW"
      }
    },
    {
      "cell_type": "code",
      "source": [
        "%%R\n",
        "stablestates"
      ],
      "metadata": {
        "colab": {
          "base_uri": "https://localhost:8080/"
        },
        "id": "gySY0PMX8Br5",
        "outputId": "2c602c8b-2cb2-4537-8999-e91f6c80ccc9"
      },
      "execution_count": null,
      "outputs": [
        {
          "output_type": "stream",
          "name": "stdout",
          "text": [
            "[1] 46468 38092 58001\n"
          ]
        }
      ]
    },
    {
      "cell_type": "markdown",
      "source": [
        "Convert an integer representing a stable state (ssid) to a binary vector"
      ],
      "metadata": {
        "id": "-bgmOVvBw9SV"
      }
    },
    {
      "cell_type": "code",
      "source": [
        "%%R\n",
        "# ssid -> binary vector\n",
        "bin = as.list(sapply(stablestates, function(x){CIntegerDigits(x, length(colnames(ocvecs)))}))\n",
        "bin"
      ],
      "metadata": {
        "colab": {
          "base_uri": "https://localhost:8080/"
        },
        "id": "4ADsgD1j85Tc",
        "outputId": "3939169a-dd2e-4255-dfce-b78afbe24156"
      },
      "execution_count": null,
      "outputs": [
        {
          "output_type": "stream",
          "name": "stdout",
          "text": [
            "$dec2bin.ssid..n.\n",
            " [1] 1 0 1 1 0 1 0 1 1 0 0 0 0 1 0 0\n",
            "\n",
            "$dec2bin.ssid..n.\n",
            " [1] 1 0 0 1 0 1 0 0 1 1 0 0 1 1 0 0\n",
            "\n",
            "$dec2bin.ssid..n.\n",
            " [1] 1 1 1 0 0 0 1 0 1 0 0 1 0 0 0 1\n",
            "\n"
          ]
        }
      ]
    },
    {
      "cell_type": "markdown",
      "source": [
        "Convert a binary vector to a ssid"
      ],
      "metadata": {
        "id": "oAoyXH6VA2uH"
      }
    },
    {
      "cell_type": "code",
      "source": [
        "%%R\n",
        "# binary vector -> ssid\n",
        "as.vector(sapply(bin, function(x){str2i(paste(unlist(applyvec(x, as.character)), collapse=''))}))"
      ],
      "metadata": {
        "colab": {
          "base_uri": "https://localhost:8080/"
        },
        "id": "m5MCP9gN9sEb",
        "outputId": "550c3365-e102-43c2-fb8f-5c1485fb4107"
      },
      "execution_count": null,
      "outputs": [
        {
          "output_type": "stream",
          "name": "stdout",
          "text": [
            "[1] 46468 38092 58001\n"
          ]
        }
      ]
    },
    {
      "cell_type": "markdown",
      "source": [
        "Table of SSID, Energy, Community composition"
      ],
      "metadata": {
        "id": "y24_3yww9-By"
      }
    },
    {
      "cell_type": "code",
      "source": [
        "%%R\n",
        "sstable <- as.data.frame(cbind(stablestates, stablen, t(as.data.frame(bin)))) %>%\n",
        "  'colnames<-'(c('ID', 'Energy', colnames(ocvecs))) %>%\n",
        "  'rownames<-'(1: length(stablestates))\n",
        "sstable"
      ],
      "metadata": {
        "colab": {
          "base_uri": "https://localhost:8080/"
        },
        "id": "No_0uUNR95y1",
        "outputId": "c33e3f30-1baf-4a40-c995-d02f5e826fe8"
      },
      "execution_count": null,
      "outputs": [
        {
          "output_type": "stream",
          "name": "stdout",
          "text": [
            "     ID    Energy species.1 species.2 species.3 species.4 species.5 species.6\n",
            "1 46468 -14.19717         1         0         1         1         0         1\n",
            "2 38092 -13.11923         1         0         0         1         0         1\n",
            "3 58001 -11.98866         1         1         1         0         0         0\n",
            "  species.7 species.8 species.9 species.10 species.11 species.12 species.13\n",
            "1         0         1         1          0          0          0          0\n",
            "2         0         0         1          1          0          0          1\n",
            "3         1         0         1          0          0          1          0\n",
            "  species.14 species.15 species.16\n",
            "1          1          0          0\n",
            "2          1          0          0\n",
            "3          0          0          1\n"
          ]
        }
      ]
    },
    {
      "cell_type": "markdown",
      "source": [
        "Export the table to Google Drive in CSV format"
      ],
      "metadata": {
        "id": "djeQ6Mt-d8ud"
      }
    },
    {
      "cell_type": "code",
      "source": [
        "%%R\n",
        "write.csv(x = sstable, file=\"drive/MyDrive/colab_export/sstable.csv\") # \"sstable.csv\" is saved in \"colab_export\" folder of your Google Drive."
      ],
      "metadata": {
        "id": "aXNsRBswd4hq"
      },
      "execution_count": null,
      "outputs": []
    },
    {
      "cell_type": "markdown",
      "source": [
        "ID and energy of tipping points"
      ],
      "metadata": {
        "id": "I7dVq7BN-HAt"
      }
    },
    {
      "cell_type": "code",
      "source": [
        "%%R\n",
        "as.data.frame(tippingpoints)"
      ],
      "metadata": {
        "colab": {
          "base_uri": "https://localhost:8080/"
        },
        "id": "0Y9TLwIK-JOx",
        "outputId": "06e70c98-82af-4d67-833d-97ca1d8a53d7"
      },
      "execution_count": null,
      "outputs": [
        {
          "output_type": "stream",
          "name": "stdout",
          "text": [
            "   X1    X2    X3\n",
            "1 Inf 38028 41857\n",
            "2 Inf   Inf 58056\n",
            "3 Inf   Inf   Inf\n"
          ]
        }
      ]
    },
    {
      "cell_type": "code",
      "source": [
        "%%R\n",
        "as.data.frame(tippingen)"
      ],
      "metadata": {
        "colab": {
          "base_uri": "https://localhost:8080/"
        },
        "id": "gfOlQvio-QM6",
        "outputId": "bb23bde5-ed17-4e10-e45e-21b193c92322"
      },
      "execution_count": null,
      "outputs": [
        {
          "output_type": "stream",
          "name": "stdout",
          "text": [
            "   X1        X2        X3\n",
            "1 Inf -12.62654 -8.723767\n",
            "2 Inf       Inf -7.592255\n",
            "3 Inf       Inf       Inf\n"
          ]
        }
      ]
    },
    {
      "cell_type": "markdown",
      "source": [
        "Energy of any community composition\n"
      ],
      "metadata": {
        "id": "Lp_iUrvCDZ3p"
      }
    },
    {
      "cell_type": "code",
      "source": [
        "%%R\n",
        "x <- replace(rep(0,length(ocvecs[1,])),10,1)\n",
        "cEnergy(x, he, je)"
      ],
      "metadata": {
        "colab": {
          "base_uri": "https://localhost:8080/"
        },
        "id": "54RjLTQ7nc90",
        "outputId": "036b404e-6d98-44fb-97b1-35b7c1bf0a6d"
      },
      "execution_count": null,
      "outputs": [
        {
          "output_type": "stream",
          "name": "stdout",
          "text": [
            "[1] 0.9577528\n"
          ]
        }
      ]
    },
    {
      "cell_type": "markdown",
      "source": [
        "Find the stable state for a community composition"
      ],
      "metadata": {
        "id": "p2IPxLTxxo2h"
      }
    },
    {
      "cell_type": "code",
      "source": [
        "%%R\n",
        "x <- replace(rep(0,length(ocvecs[1,])),10,1)\n",
        "Bi(x, he, je)"
      ],
      "metadata": {
        "colab": {
          "base_uri": "https://localhost:8080/"
        },
        "id": "iISlCtfG-Y3c",
        "outputId": "201d1be4-9c07-4a88-832b-b0a62db635f0"
      },
      "execution_count": null,
      "outputs": [
        {
          "output_type": "stream",
          "name": "stdout",
          "text": [
            "[[1]]\n",
            "[1] 38092\n",
            "\n",
            "[[2]]\n",
            "[1] -13.11923\n",
            "\n"
          ]
        }
      ]
    },
    {
      "cell_type": "markdown",
      "source": [
        "### Principal component analysis  \n",
        "Observed community compositions plotted on a PC1,2 plane and color-coded by their stable states"
      ],
      "metadata": {
        "id": "dQFmBCUZB-xU"
      }
    },
    {
      "cell_type": "code",
      "source": [
        "%%R\n",
        "PCplot(ocvecs, sa, ssrep=ela[[2]])\n",
        "PCplot(ocvecs, sa, ssrep=ela[[2]], pruned=FALSE)"
      ],
      "metadata": {
        "colab": {
          "base_uri": "https://localhost:8080/",
          "height": 994
        },
        "id": "adI4A3JJLa7G",
        "outputId": "4f2949dd-5c2d-4ec6-fb0f-d69074e6b77a"
      },
      "execution_count": null,
      "outputs": [
        {
          "output_type": "stream",
          "name": "stdout",
          "text": [
            "NULL\n"
          ]
        },
        {
          "output_type": "display_data",
          "data": {
            "image/png": "[encoded data removed]"
          },
          "metadata": {}
        },
        {
          "output_type": "display_data",
          "data": {
            "image/png": "[encoded data removed]"
          },
          "metadata": {}
        }
      ]
    },
    {
      "cell_type": "markdown",
      "source": [
        "Disconnectivity graph\n"
      ],
      "metadata": {
        "id": "kzfCYXux5uHg"
      }
    },
    {
      "cell_type": "code",
      "source": [
        "%%R\n",
        "showDG(ela[[1]], ocvecs, \"test\")"
      ],
      "metadata": {
        "colab": {
          "base_uri": "https://localhost:8080/",
          "height": 532
        },
        "id": "Wazs4oEAIK61",
        "outputId": "c59647a1-f0f0-434e-9873-af13675fbc2c"
      },
      "execution_count": null,
      "outputs": [
        {
          "output_type": "stream",
          "name": "stdout",
          "text": [
            "[1] 46468 38092 58001\n",
            "NULL\n"
          ]
        },
        {
          "output_type": "display_data",
          "data": {
            "image/png": "[encoded data removed]"
          },
          "metadata": {}
        }
      ]
    },
    {
      "cell_type": "markdown",
      "source": [
        "### Visualization of species' interaction"
      ],
      "metadata": {
        "id": "JhRptm-uVSzg"
      }
    },
    {
      "cell_type": "code",
      "source": [
        "%%R\n",
        "showIntrGraph(ela[[1]], je, th=0.4, # <- Threshold for links to be displayed\n",
        "              annot_adj=c(0.75, 2.00))"
      ],
      "metadata": {
        "colab": {
          "base_uri": "https://localhost:8080/",
          "height": 514
        },
        "id": "viGj4g6sX0Ca",
        "outputId": "cfd1d9ea-1b92-4184-bc7d-987715a08191"
      },
      "execution_count": null,
      "outputs": [
        {
          "output_type": "stream",
          "name": "stdout",
          "text": [
            "NULL\n"
          ]
        },
        {
          "output_type": "display_data",
          "data": {
            "image/png": "[encoded data removed]"
          },
          "metadata": {}
        }
      ]
    },
    {
      "cell_type": "markdown",
      "source": [
        "### Energy landscape analysis with environmental gradients"
      ],
      "metadata": {
        "id": "WOi0wfI2fxI1"
      }
    },
    {
      "cell_type": "code",
      "source": [
        "# Parameter fitting including environmental parameters\n",
        "%%R\n",
        "sa <- runSA(data=as.matrix(ocvecs), env=as.matrix(envecs), qth=10^-5, rep=256, threads=1)"
      ],
      "metadata": {
        "colab": {
          "base_uri": "https://localhost:8080/"
        },
        "id": "MBlCXWjMOHVq",
        "outputId": "fbcf47ba-393c-404b-e5e6-14e8e6ca5545"
      },
      "execution_count": null,
      "outputs": [
        {
          "output_type": "stream",
          "name": "stdout",
          "text": [
            "Start parameter fitting\n",
            "\n",
            "Done ; elapsed time 45.73 sec\n",
            "\n"
          ]
        }
      ]
    },
    {
      "cell_type": "code",
      "source": [
        "%%R\n",
        "colnames(envecs)"
      ],
      "metadata": {
        "colab": {
          "base_uri": "https://localhost:8080/"
        },
        "id": "3snIRTeJw36V",
        "outputId": "0302f86e-866e-415b-fef6-22a8285c7959"
      },
      "execution_count": null,
      "outputs": [
        {
          "output_type": "stream",
          "name": "stdout",
          "text": [
            "[1] \"factor.1\" \"factor.2\"\n"
          ]
        }
      ]
    },
    {
      "cell_type": "code",
      "source": [
        "%%R\n",
        "gela <- GradELA(sa=sa, eid=\"factor.1\", # Specify the label or position of an environmental factor\n",
        "  env=envecs, refenv=NULL, steps=32, prn=0.05, threads=1) #[[1]]: return value of ELA function for each step, [[2]]: value of environmental factor for each step, [[3]]: specified environmental factor"
      ],
      "metadata": {
        "colab": {
          "base_uri": "https://localhost:8080/"
        },
        "id": "nD76eeaz3zt3",
        "outputId": "8adf4ea2-d5e1-4c4b-855d-6a6cd2a0ba04"
      },
      "execution_count": null,
      "outputs": [
        {
          "output_type": "stream",
          "name": "stdout",
          "text": [
            "refenv not specified, the mean of envecs is used\n",
            "processing(32) |================================|\n",
            "Elapsed time 25.72 sec\n"
          ]
        }
      ]
    },
    {
      "cell_type": "code",
      "source": [
        "# Disconnectivity graph\n",
        "%%R\n",
        "showDG(gela[[1]][[1]][[1]], ocvecs)"
      ],
      "metadata": {
        "id": "NSPUA01XXz3f",
        "colab": {
          "base_uri": "https://localhost:8080/",
          "height": 532
        },
        "outputId": "a22b368f-ad6a-4e80-aee2-754c3726f60d"
      },
      "execution_count": null,
      "outputs": [
        {
          "output_type": "stream",
          "name": "stdout",
          "text": [
            "[1] 38092 58001 59852\n",
            "NULL\n"
          ]
        },
        {
          "output_type": "display_data",
          "data": {
            "image/png": "[encoded data removed]"
          },
          "metadata": {}
        }
      ]
    },
    {
      "cell_type": "code",
      "source": [
        "# Stable state diagram\n",
        "%%R\n",
        "showSSD(gela)"
      ],
      "metadata": {
        "colab": {
          "base_uri": "https://localhost:8080/",
          "height": 497
        },
        "id": "J_Z06lPnrcpf",
        "outputId": "27355995-c5a1-4fbe-c0f7-b713c0400a88"
      },
      "execution_count": null,
      "outputs": [
        {
          "output_type": "display_data",
          "data": {
            "image/png": "[encoded data removed]"
          },
          "metadata": {}
        }
      ]
    },
    {
      "cell_type": "code",
      "source": [
        "# SSentropy and energy gap\n",
        "%%R\n",
        "stability(sa, unique(ocvecs))"
      ],
      "metadata": {
        "colab": {
          "base_uri": "https://localhost:8080/"
        },
        "id": "Jb8FcTxafs1D",
        "outputId": "e7413237-be54-463e-be8d-5a8a59ecc476"
      },
      "execution_count": null,
      "outputs": [
        {
          "output_type": "stream",
          "name": "stdout",
          "text": [
            "           energy.gap  ssentropy\n",
            "sample.1    8.9671967 0.00000000\n",
            "sample.10   0.9158027 0.33140182\n",
            "sample.100 10.1532998 0.50292491\n",
            "sample.101  0.8818626 0.13578841\n",
            "sample.102  2.3172697 0.61976044\n",
            "sample.103  4.0470881 0.08079314\n",
            "sample.104  0.0000000 0.00000000\n",
            "sample.105  7.7786472 0.47843387\n",
            "sample.106  0.4904694 0.00000000\n",
            "sample.107  1.0838180 0.00000000\n",
            "sample.108  2.0042856 0.00000000\n",
            "sample.11   6.1565129 0.53792323\n",
            "sample.110  0.2012274 0.65310911\n",
            "sample.114  6.8900654 0.49689227\n",
            "sample.119  5.2867453 0.43312311\n",
            "sample.12   5.0249238 0.00000000\n",
            "sample.121  6.7242997 0.00000000\n",
            "sample.123  2.5013257 0.18426059\n",
            "sample.124  3.4048777 0.00000000\n",
            "sample.125  5.1308705 0.31945397\n",
            "sample.126 11.3498108 0.22836403\n",
            "sample.129  6.0578808 0.00000000\n",
            "sample.132  6.9473613 0.19938228\n",
            "sample.138  5.7407132 0.00000000\n",
            "sample.139  2.8232056 0.00000000\n",
            "sample.140  1.6382918 0.28213375\n",
            "sample.143  9.2751378 0.00000000\n",
            "sample.150  7.0744250 0.00000000\n",
            "sample.152  3.2039855 0.00000000\n",
            "sample.153  1.0602029 0.11835001\n",
            "sample.156  8.2730804 0.23304589\n",
            "sample.157  2.6094500 0.00000000\n",
            "sample.158 11.9381666 0.03762236\n",
            "sample.159  9.6583983 0.35462717\n",
            "sample.162  4.5907797 0.00000000\n",
            "sample.163  6.6450161 0.48773158\n",
            "sample.164  8.0753270 0.00000000\n",
            "sample.165 14.9802942 0.00000000\n",
            "sample.166 10.9846942 0.23768829\n",
            "sample.167  5.4375851 0.00000000\n",
            "sample.17   4.7154891 0.00000000\n",
            "sample.170  5.0435745 0.50591924\n",
            "sample.175  7.6340050 0.00000000\n",
            "sample.177  1.3990078 0.33140182\n",
            "sample.179  3.0263829 0.00000000\n",
            "sample.185  7.9976419 0.49080020\n",
            "sample.186  7.8919655 0.25138814\n",
            "sample.190  5.2672209 0.33924044\n",
            "sample.193  5.3690767 0.08079314\n",
            "sample.196  3.4695292 0.00000000\n",
            "sample.201  5.8634616 0.00000000\n",
            "sample.204  3.2064078 0.63430955\n",
            "sample.205  7.1035069 0.00000000\n",
            "sample.207  1.8273573 0.27351383\n",
            "sample.209  4.3437306 0.51481565\n",
            "sample.210  6.1662294 0.11236071\n",
            "sample.215  8.6043031 0.42637613\n",
            "sample.220  5.0049506 0.52358447\n",
            "sample.221  4.1428590 0.44311056\n",
            "sample.228  2.3611032 0.60733214\n",
            "sample.229  4.4572103 0.00000000\n",
            "sample.231  9.0867913 0.00000000\n",
            "sample.239  7.5980048 0.49689227\n",
            "sample.242  4.6104687 0.38067661\n",
            "sample.256  5.2664511 0.00000000\n",
            "sample.3    1.9496719 0.21407107\n",
            "sample.36   6.8074723 0.00000000\n",
            "sample.40   4.9538373 0.31135737\n",
            "sample.50   4.5748222 0.21407107\n",
            "sample.53   2.2842740 0.00000000\n",
            "sample.6    9.9763129 0.00000000\n",
            "sample.61   4.5707731 0.00000000\n",
            "sample.63   7.6798707 0.29483282\n",
            "sample.65   4.7361330 0.56560867\n",
            "sample.70   3.9648540 0.00000000\n",
            "sample.73  13.0459005 0.24685851\n",
            "sample.75   8.9611884 0.29483282\n",
            "sample.8    7.4968352 0.00000000\n",
            "sample.94   5.7918815 0.00000000\n",
            "sample.95   6.2905732 0.69515334\n",
            "sample.97  10.7317624 0.00000000\n",
            "sample.99   4.8358413 0.00000000\n"
          ]
        }
      ]
    }
  ]
}